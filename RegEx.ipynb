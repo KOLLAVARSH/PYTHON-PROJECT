{
  "nbformat": 4,
  "nbformat_minor": 0,
  "metadata": {
    "colab": {
      "name": "RegEx.ipynb",
      "provenance": [],
      "authorship_tag": "ABX9TyOAZgrJWe40lWk0QyWgznnR",
      "include_colab_link": true
    },
    "kernelspec": {
      "name": "python3",
      "display_name": "Python 3"
    },
    "language_info": {
      "name": "python"
    }
  },
  "cells": [
    {
      "cell_type": "markdown",
      "metadata": {
        "id": "view-in-github",
        "colab_type": "text"
      },
      "source": [
        "<a href=\"https://colab.research.google.com/github/KOLLAVARSH/PYTHON-PROJECT/blob/main/RegEx.ipynb\" target=\"_parent\"><img src=\"https://colab.research.google.com/assets/colab-badge.svg\" alt=\"Open In Colab\"/></a>"
      ]
    },
    {
      "cell_type": "code",
      "execution_count": 1,
      "metadata": {
        "colab": {
          "base_uri": "https://localhost:8080/"
        },
        "id": "nY_nWj9G2reQ",
        "outputId": "caf22a5c-822a-49a9-e916-90de92107921"
      },
      "outputs": [
        {
          "output_type": "stream",
          "name": "stdout",
          "text": [
            "YES! it is match\n"
          ]
        }
      ],
      "source": [
        "#search the string if it starts with srh and ends with willamson\n",
        "import re\n",
        "txt = \"srh caption was kane williamson\"\n",
        "x = re.search(\"^srh.*williamson$\",txt)\n",
        "if x :\n",
        "  print(\"YES! it is match\")\n",
        "else :\n",
        "  print(\"not match\")"
      ]
    },
    {
      "cell_type": "code",
      "source": [
        "#To find the lower case alphabates from a to j\n",
        "import re\n",
        "txt = \"srh caption was kane williamson\"\n",
        "x = re.findall(\"[a-j]\",txt)\n",
        "print(x)"
      ],
      "metadata": {
        "colab": {
          "base_uri": "https://localhost:8080/"
        },
        "id": "XwmcF5905FLh",
        "outputId": "9d0c6b54-e501-481d-ffce-cf2712343894"
      },
      "execution_count": 3,
      "outputs": [
        {
          "output_type": "stream",
          "name": "stdout",
          "text": [
            "['h', 'c', 'a', 'i', 'a', 'a', 'e', 'i', 'i', 'a']\n"
          ]
        }
      ]
    },
    {
      "cell_type": "code",
      "source": [
        "#find all digit characters\n",
        "import re\n",
        "txt = \"srh 2nd caption was kane williamson\"\n",
        "x = re.findall(\"\\d\",txt)\n",
        "print(x) "
      ],
      "metadata": {
        "colab": {
          "base_uri": "https://localhost:8080/"
        },
        "id": "IWrNWCMo53V6",
        "outputId": "5bd589d0-d53a-4458-8fcf-52cd20b9d592"
      },
      "execution_count": 5,
      "outputs": [
        {
          "output_type": "stream",
          "name": "stdout",
          "text": [
            "['2']\n"
          ]
        }
      ]
    },
    {
      "cell_type": "code",
      "source": [
        "#Search for a sequence that starts with \"he\", followed by two (any) characters, and an \"o\":\n",
        "import re\n",
        "txt = \"hello world\"\n",
        "x = re.findall(\"he..o\", txt)\n",
        "print(x)\n"
      ],
      "metadata": {
        "colab": {
          "base_uri": "https://localhost:8080/"
        },
        "id": "yZXjuTCf7FTO",
        "outputId": "4474ae14-a263-41c4-b003-fddbcdc81d49"
      },
      "execution_count": 6,
      "outputs": [
        {
          "output_type": "stream",
          "name": "stdout",
          "text": [
            "['hello']\n"
          ]
        }
      ]
    },
    {
      "cell_type": "code",
      "source": [
        "#Search for a sequence that starts with \"he\", followed by 0 or more  (any) characters, and an \"o\":\n",
        "import re\n",
        "txt = \"hello world\"\n",
        "x = re.findall(\"he.*o\", txt)\n",
        "print(x)\n"
      ],
      "metadata": {
        "colab": {
          "base_uri": "https://localhost:8080/"
        },
        "id": "fZNqD0s57x8i",
        "outputId": "9ed61239-cb82-47e4-827b-aea5f72a27ff"
      },
      "execution_count": 7,
      "outputs": [
        {
          "output_type": "stream",
          "name": "stdout",
          "text": [
            "['hello']\n"
          ]
        }
      ]
    },
    {
      "cell_type": "code",
      "source": [
        "#Search for a sequence that starts with \"he\", followed by 1 or more  (any) characters, and an \"o\":\n",
        "import re\n",
        "txt = \"hello planet\"\n",
        "x = re.findall(\"he.+o\", txt)\n",
        "print(x)"
      ],
      "metadata": {
        "colab": {
          "base_uri": "https://localhost:8080/"
        },
        "id": "yrhmzAHn8CtH",
        "outputId": "aa608dbb-d0c8-4ed2-b49f-edcb22ee4648"
      },
      "execution_count": 8,
      "outputs": [
        {
          "output_type": "stream",
          "name": "stdout",
          "text": [
            "['hello']\n"
          ]
        }
      ]
    },
    {
      "cell_type": "code",
      "source": [
        ""
      ],
      "metadata": {
        "id": "DjlyCrK79CVC"
      },
      "execution_count": null,
      "outputs": []
    }
  ]
}