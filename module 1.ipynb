{
  "nbformat": 4,
  "nbformat_minor": 0,
  "metadata": {
    "colab": {
      "name": "Untitled6.ipynb",
      "provenance": [],
      "authorship_tag": "ABX9TyMzlB3aWf4laX0yfoK5vY3N",
      "include_colab_link": true
    },
    "kernelspec": {
      "name": "python3",
      "display_name": "Python 3"
    },
    "language_info": {
      "name": "python"
    }
  },
  "cells": [
    {
      "cell_type": "markdown",
      "metadata": {
        "id": "view-in-github",
        "colab_type": "text"
      },
      "source": [
        "<a href=\"https://colab.research.google.com/github/KOLLAVARSH/PYTHON-PROJECT/blob/main/module%201.ipynb\" target=\"_parent\"><img src=\"https://colab.research.google.com/assets/colab-badge.svg\" alt=\"Open In Colab\"/></a>"
      ]
    },
    {
      "cell_type": "code",
      "execution_count": 6,
      "metadata": {
        "colab": {
          "base_uri": "https://localhost:8080/"
        },
        "id": "gRgQROPvdDpG",
        "outputId": "567b1e40-ba99-4e77-90d0-12829aadbc11"
      },
      "outputs": [
        {
          "output_type": "stream",
          "name": "stdout",
          "text": [
            "enter roll no :1058\n",
            "enter percent89\n",
            "1058\n",
            "89\n"
          ]
        }
      ],
      "source": [
        "#Accept input from user and store it in variable and print the value\n",
        "b = int(input(\"enter roll no :\"))\n",
        "c = int(input(\"enter percent\"))\n",
        "print(b)\n",
        "print(c)"
      ]
    },
    {
      "cell_type": "code",
      "source": [
        "#Use of print statements and use of (.format )for printing different data types.\n",
        "a = \"name = KOLLA VARSH\"\n",
        "b = \"roll = VU21CSEN0101058\"\n",
        "c = \"branch = cse\"\n",
        "d = \"name {} roll {} branch{}\"\n",
        "print(d.format(a,b,c))\n"
      ],
      "metadata": {
        "colab": {
          "base_uri": "https://localhost:8080/"
        },
        "id": "U-wn2wKfe65R",
        "outputId": "af8b8c67-bedf-4140-eb0c-2b5067bc70c4"
      },
      "execution_count": 9,
      "outputs": [
        {
          "output_type": "stream",
          "name": "stdout",
          "text": [
            "name name = KOLLA VARSH roll roll = VU21CSEN0101058 branchbranch = cse\n"
          ]
        }
      ]
    },
    {
      "cell_type": "code",
      "source": [
        "#Take 2 numbers as user input and add, multiply, divide, subtract, remainder and print\n",
        "#the output (Same operations on floating point input as well)\n",
        "a = int(input(\"enter the number\"))\n",
        "b = int(input(\"enter the numer\"))\n",
        "add = a + b\n",
        "sub = a - b\n",
        "mul = a * b\n",
        "div = a / b\n",
        "rem = a % b\n",
        "print(a)\n",
        "print(b)\n",
        "print(add)\n",
        "print(sub)\n",
        "print(mul)\n",
        "print(div)\n",
        "print(rem)"
      ],
      "metadata": {
        "colab": {
          "base_uri": "https://localhost:8080/"
        },
        "id": "fR2HSauzgroN",
        "outputId": "f4530aac-3940-4464-f90f-b8a68d7f0948"
      },
      "execution_count": 11,
      "outputs": [
        {
          "output_type": "stream",
          "name": "stdout",
          "text": [
            "enter the number5\n",
            "enter the numer23\n",
            "5\n",
            "23\n",
            "28\n",
            "-18\n",
            "115\n",
            "0.21739130434782608\n",
            "5\n"
          ]
        }
      ]
    },
    {
      "cell_type": "code",
      "source": [
        "#Conversion of one unit to another (such as hours to minutes, miles to km and etc)\n"
      ],
      "metadata": {
        "id": "grUg6RC2iVFc"
      },
      "execution_count": null,
      "outputs": []
    }
  ]
}