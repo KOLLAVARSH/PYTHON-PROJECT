{
  "cells": [
    {
      "cell_type": "markdown",
      "metadata": {
        "id": "view-in-github",
        "colab_type": "text"
      },
      "source": [
        "<a href=\"https://colab.research.google.com/github/KOLLAVARSH/PYTHON-PROJECT/blob/main/Untitled.ipynb\" target=\"_parent\"><img src=\"https://colab.research.google.com/assets/colab-badge.svg\" alt=\"Open In Colab\"/></a>"
      ]
    },
    {
      "cell_type": "markdown",
      "id": "123581ee",
      "metadata": {
        "id": "123581ee"
      },
      "source": [
        ""
      ]
    },
    {
      "cell_type": "markdown",
      "id": "96fe6d4b",
      "metadata": {
        "id": "96fe6d4b"
      },
      "source": [
        "# average of 3 number"
      ]
    },
    {
      "cell_type": "code",
      "execution_count": null,
      "id": "03cad821",
      "metadata": {
        "id": "03cad821",
        "outputId": "a807c2c9-37bf-482d-887d-025af0ac9e6b"
      },
      "outputs": [
        {
          "name": "stdout",
          "output_type": "stream",
          "text": [
            "15.0\n"
          ]
        }
      ],
      "source": [
        "a = 10\n",
        "b = 15\n",
        "c = 20\n",
        "avg = (a+b+c)/3\n",
        "print(avg)"
      ]
    },
    {
      "cell_type": "markdown",
      "id": "54b4a74b",
      "metadata": {
        "id": "54b4a74b"
      },
      "source": [
        "# multiplication of 3 numbers"
      ]
    },
    {
      "cell_type": "code",
      "execution_count": null,
      "id": "28eaad05",
      "metadata": {
        "id": "28eaad05",
        "outputId": "d0649a50-1b41-45a8-9f7f-31762efda82a"
      },
      "outputs": [
        {
          "name": "stdout",
          "output_type": "stream",
          "text": [
            "1500\n"
          ]
        }
      ],
      "source": [
        "a=3\n",
        "b=10\n",
        "c=50\n",
        "product=a*b*c\n",
        "print(product)"
      ]
    },
    {
      "cell_type": "markdown",
      "id": "8dc5664c",
      "metadata": {
        "id": "8dc5664c"
      },
      "source": [
        "# dynamic addition of 2 numbers"
      ]
    },
    {
      "cell_type": "code",
      "execution_count": null,
      "id": "85dbb9d8",
      "metadata": {
        "id": "85dbb9d8",
        "outputId": "d699489a-5ed7-490b-8eca-9523e90ece18"
      },
      "outputs": [
        {
          "name": "stdout",
          "output_type": "stream",
          "text": [
            "enter the number:5\n",
            "enter the number:6\n"
          ]
        }
      ],
      "source": [
        "a=int(input(\"enter the number:\"))\n",
        "b=int(input(\"enter the number:\"))"
      ]
    },
    {
      "cell_type": "markdown",
      "id": "6f931f70",
      "metadata": {
        "id": "6f931f70"
      },
      "source": [
        "# dynamic multiplication of 3 numbers"
      ]
    },
    {
      "cell_type": "code",
      "execution_count": null,
      "id": "1c973b36",
      "metadata": {
        "id": "1c973b36",
        "outputId": "fe8415b9-7597-48ea-db40-0e2e127dcc19"
      },
      "outputs": [
        {
          "name": "stdout",
          "output_type": "stream",
          "text": [
            "enter the number:4\n",
            "enter the number:6\n",
            "enter the number:9\n",
            "216\n"
          ]
        }
      ],
      "source": [
        "a=int(input(\"enter the number:\"))\n",
        "b=int(input(\"enter the number:\"))\n",
        "c=int(input(\"enter the number:\"))\n",
        "prod=a*b*c\n",
        "print(prod)"
      ]
    },
    {
      "cell_type": "markdown",
      "id": "141a7889",
      "metadata": {
        "id": "141a7889"
      },
      "source": [
        "# dynamic average of two numbers"
      ]
    },
    {
      "cell_type": "code",
      "execution_count": null,
      "id": "75f1669a",
      "metadata": {
        "id": "75f1669a",
        "outputId": "904e3afb-c427-4f15-aaca-4db3ab7b0773"
      },
      "outputs": [
        {
          "name": "stdout",
          "output_type": "stream",
          "text": [
            "enter the number:6\n",
            "enter the number:7\n",
            "6.5\n"
          ]
        }
      ],
      "source": [
        "a=int(input(\"enter the number:\"))\n",
        "b=int(input(\"enter the number:\"))\n",
        "avg=(a+b)/2\n",
        "print(avg)"
      ]
    },
    {
      "cell_type": "markdown",
      "id": "36092c59",
      "metadata": {
        "id": "36092c59"
      },
      "source": [
        "# type conversions\n",
        "\n",
        "## convert int to float"
      ]
    },
    {
      "cell_type": "code",
      "execution_count": null,
      "id": "ce858efe",
      "metadata": {
        "id": "ce858efe",
        "outputId": "f58823f7-64b4-4637-9163-a86bd12aeb0d"
      },
      "outputs": [
        {
          "name": "stdout",
          "output_type": "stream",
          "text": [
            "<class 'int'>\n",
            "<class 'float'>\n"
          ]
        }
      ],
      "source": [
        "a=10\n",
        "print(type(a))\n",
        "b=float(a)\n",
        "print(type(b))"
      ]
    },
    {
      "cell_type": "markdown",
      "id": "824430c8",
      "metadata": {
        "id": "824430c8"
      },
      "source": [
        "## conver float to int "
      ]
    },
    {
      "cell_type": "code",
      "execution_count": null,
      "id": "998a9179",
      "metadata": {
        "id": "998a9179",
        "outputId": "0e7cd3d2-adf7-41a6-809b-063af23c654d"
      },
      "outputs": [
        {
          "name": "stdout",
          "output_type": "stream",
          "text": [
            "<class 'float'>\n",
            "<class 'int'>\n"
          ]
        }
      ],
      "source": [
        "a=10.00\n",
        "print(type(a))\n",
        "b=int(a)\n",
        "print(type(b))"
      ]
    },
    {
      "cell_type": "markdown",
      "id": "7943996e",
      "metadata": {
        "id": "7943996e"
      },
      "source": [
        "## convert int to string"
      ]
    },
    {
      "cell_type": "code",
      "execution_count": null,
      "id": "33d3884f",
      "metadata": {
        "id": "33d3884f",
        "outputId": "43f14bfd-9c43-4657-839b-305937e82813"
      },
      "outputs": [
        {
          "name": "stdout",
          "output_type": "stream",
          "text": [
            "<class 'int'>\n",
            "<class 'str'>\n",
            "10\n"
          ]
        }
      ],
      "source": [
        "a=10\n",
        "print(type(a))\n",
        "b=str(a)\n",
        "print(type(b))\n",
        "print(b)"
      ]
    },
    {
      "cell_type": "markdown",
      "id": "d4966824",
      "metadata": {
        "id": "d4966824"
      },
      "source": [
        "## conver string to int"
      ]
    },
    {
      "cell_type": "code",
      "execution_count": null,
      "id": "ff081d19",
      "metadata": {
        "id": "ff081d19",
        "outputId": "ad9fcab2-2f6e-468f-a2a6-e3f57781bc63"
      },
      "outputs": [
        {
          "name": "stdout",
          "output_type": "stream",
          "text": [
            "<class 'str'>\n",
            "<class 'int'>\n",
            "10\n"
          ]
        }
      ],
      "source": [
        "a=\"10\"\n",
        "print(type(a))\n",
        "b=int(a)\n",
        "print(type(b))\n",
        "print(b)"
      ]
    },
    {
      "cell_type": "markdown",
      "id": "32e557af",
      "metadata": {
        "id": "32e557af"
      },
      "source": [
        "# Boolean"
      ]
    },
    {
      "cell_type": "code",
      "execution_count": null,
      "id": "2939d5f6",
      "metadata": {
        "id": "2939d5f6",
        "outputId": "3138e2b9-3ded-496d-8681-0cf1de84e67b"
      },
      "outputs": [
        {
          "name": "stdout",
          "output_type": "stream",
          "text": [
            "False\n"
          ]
        }
      ],
      "source": [
        "a=10\n",
        "b=20\n",
        "c=a>b\n",
        "print(bool(c))"
      ]
    },
    {
      "cell_type": "markdown",
      "id": "a04aa342",
      "metadata": {
        "id": "a04aa342"
      },
      "source": [
        "## boolean to int "
      ]
    },
    {
      "cell_type": "code",
      "execution_count": null,
      "id": "21746a4b",
      "metadata": {
        "id": "21746a4b",
        "outputId": "2b80a1c6-c9bc-444d-988b-4f50676a8900"
      },
      "outputs": [
        {
          "name": "stdout",
          "output_type": "stream",
          "text": [
            "<class 'bool'>\n",
            "<class 'int'>\n",
            "1\n"
          ]
        }
      ],
      "source": [
        "a=bool(10)\n",
        "b=int(a)\n",
        "print(type(a))\n",
        "print(type(b))\n",
        "print(b)"
      ]
    },
    {
      "cell_type": "markdown",
      "id": "ee24e1ea",
      "metadata": {
        "id": "ee24e1ea"
      },
      "source": [
        "## boolean to float"
      ]
    },
    {
      "cell_type": "code",
      "execution_count": null,
      "id": "41888f00",
      "metadata": {
        "id": "41888f00",
        "outputId": "30a32fbd-7876-4a12-ebc9-4fe4b4d3c51b"
      },
      "outputs": [
        {
          "name": "stdout",
          "output_type": "stream",
          "text": [
            "<class 'bool'>\n",
            "<class 'int'>\n",
            "True\n",
            "1\n"
          ]
        }
      ],
      "source": [
        "a=bool(10)\n",
        "b=int(a)\n",
        "print(type(a))\n",
        "print(type(b))\n",
        "print(a)\n",
        "print(b)"
      ]
    },
    {
      "cell_type": "markdown",
      "id": "e3a05d96",
      "metadata": {
        "id": "e3a05d96"
      },
      "source": [
        "## boolen to string"
      ]
    },
    {
      "cell_type": "code",
      "execution_count": null,
      "id": "a29e84d6",
      "metadata": {
        "id": "a29e84d6",
        "outputId": "6af52e47-794f-487d-a7f0-5370842b0d2a"
      },
      "outputs": [
        {
          "name": "stdout",
          "output_type": "stream",
          "text": [
            "<class 'bool'>\n",
            "<class 'str'>\n",
            "True\n",
            "10\n"
          ]
        }
      ],
      "source": [
        "a=bool(10)\n",
        "b=str(10)\n",
        "print(type(a))\n",
        "print(type(b))\n",
        "print(a)\n",
        "print(b)"
      ]
    },
    {
      "cell_type": "markdown",
      "id": "0e747407",
      "metadata": {
        "id": "0e747407"
      },
      "source": [
        "# complex data type"
      ]
    },
    {
      "cell_type": "code",
      "execution_count": null,
      "id": "2eb7ea28",
      "metadata": {
        "id": "2eb7ea28",
        "outputId": "becdff81-39ae-49b2-f8cb-47bbe594ec39"
      },
      "outputs": [
        {
          "name": "stdout",
          "output_type": "stream",
          "text": [
            "<class 'complex'>\n"
          ]
        }
      ],
      "source": [
        "a=1+2j\n",
        "print(type(a))"
      ]
    },
    {
      "cell_type": "markdown",
      "id": "7a88c364",
      "metadata": {
        "id": "7a88c364"
      },
      "source": [
        "## complex to str"
      ]
    },
    {
      "cell_type": "code",
      "execution_count": null,
      "id": "1c5a7a8d",
      "metadata": {
        "id": "1c5a7a8d",
        "outputId": "3e8177b4-fd76-4a4f-b14f-f9f2cb53761a"
      },
      "outputs": [
        {
          "name": "stdout",
          "output_type": "stream",
          "text": [
            "<class 'complex'>\n",
            "(1+2j)\n",
            "<class 'str'>\n",
            "(1+2j)\n"
          ]
        }
      ],
      "source": [
        "a=1+2j\n",
        "b=str(a)\n",
        "print(type(a))\n",
        "print(a)\n",
        "print(type(b))\n",
        "print(b)"
      ]
    },
    {
      "cell_type": "code",
      "execution_count": null,
      "id": "0416a34d",
      "metadata": {
        "id": "0416a34d"
      },
      "outputs": [],
      "source": [
        ""
      ]
    }
  ],
  "metadata": {
    "kernelspec": {
      "display_name": "Python 3 (ipykernel)",
      "language": "python",
      "name": "python3"
    },
    "language_info": {
      "codemirror_mode": {
        "name": "ipython",
        "version": 3
      },
      "file_extension": ".py",
      "mimetype": "text/x-python",
      "name": "python",
      "nbconvert_exporter": "python",
      "pygments_lexer": "ipython3",
      "version": "3.9.7"
    },
    "colab": {
      "name": "Untitled.ipynb",
      "provenance": [],
      "include_colab_link": true
    }
  },
  "nbformat": 4,
  "nbformat_minor": 5
}