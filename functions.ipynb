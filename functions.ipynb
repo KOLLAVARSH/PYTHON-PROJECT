{
  "nbformat": 4,
  "nbformat_minor": 0,
  "metadata": {
    "colab": {
      "name": "functions.ipynb",
      "provenance": [],
      "authorship_tag": "ABX9TyMqoPD2YFIjZALl90vPo6pK",
      "include_colab_link": true
    },
    "kernelspec": {
      "name": "python3",
      "display_name": "Python 3"
    },
    "language_info": {
      "name": "python"
    }
  },
  "cells": [
    {
      "cell_type": "markdown",
      "metadata": {
        "id": "view-in-github",
        "colab_type": "text"
      },
      "source": [
        "<a href=\"https://colab.research.google.com/github/KOLLAVARSH/PYTHON-PROJECT/blob/main/functions.ipynb\" target=\"_parent\"><img src=\"https://colab.research.google.com/assets/colab-badge.svg\" alt=\"Open In Colab\"/></a>"
      ]
    },
    {
      "cell_type": "code",
      "execution_count": 2,
      "metadata": {
        "colab": {
          "base_uri": "https://localhost:8080/",
          "height": 0
        },
        "id": "n9btjzB8L_kv",
        "outputId": "4585ff1d-fdfb-4704-85c5-85bf5f519056"
      },
      "outputs": [
        {
          "output_type": "stream",
          "name": "stdout",
          "text": [
            "sunrisers won by 7 wickets\n"
          ]
        }
      ],
      "source": [
        "def my_function():\n",
        "   print(\"sunrisers won by 7 wickets\")\n",
        "my_function()"
      ]
    },
    {
      "cell_type": "code",
      "source": [
        "def my_function(fname) :\n",
        "    print(fname + \" willimson\")\n",
        "my_function(\"kane\")\n",
        "my_function(\"srh caption\")\n",
        "my_function(\"cool caption\")"
      ],
      "metadata": {
        "colab": {
          "base_uri": "https://localhost:8080/",
          "height": 0
        },
        "id": "Vxfdn2reV6m7",
        "outputId": "ee70da18-c982-4963-bad7-3beb6e9893ce"
      },
      "execution_count": 4,
      "outputs": [
        {
          "output_type": "stream",
          "name": "stdout",
          "text": [
            "kane willimson\n",
            "srh caption willimson\n",
            "cool caption willimson\n"
          ]
        }
      ]
    },
    {
      "cell_type": "code",
      "source": [
        "def my_function(fname,iname) :\n",
        "      print(fname + \" \" + iname)\n",
        "my_function(\"kane\",\"willimson\")      "
      ],
      "metadata": {
        "colab": {
          "base_uri": "https://localhost:8080/",
          "height": 0
        },
        "id": "Uwv9cVR8XG9f",
        "outputId": "90a13dcd-7037-42ce-b4c1-b083d3548af9"
      },
      "execution_count": 7,
      "outputs": [
        {
          "output_type": "stream",
          "name": "stdout",
          "text": [
            "kane willimson\n"
          ]
        }
      ]
    },
    {
      "cell_type": "code",
      "source": [
        "def my_function(fname,iname) :\n",
        "      print(fname + \" \" + iname)\n",
        "my_function(\"yes you are\",\"eligible for vote\") "
      ],
      "metadata": {
        "colab": {
          "base_uri": "https://localhost:8080/",
          "height": 0
        },
        "id": "0iQzaYUJXypy",
        "outputId": "a675f8e9-8e3e-4d33-ed89-d53c5a8e4870"
      },
      "execution_count": 14,
      "outputs": [
        {
          "output_type": "stream",
          "name": "stdout",
          "text": [
            "yes you are eligible for vote\n"
          ]
        }
      ]
    },
    {
      "cell_type": "code",
      "source": [
        "def my_function(g,i,f) :\n",
        "     print(g + \"male\")\n",
        "     print(i + \"varsh\")\n",
        "     print(f + \"18\")\n",
        "my_function(\"genter:\",\"name:\",\"age:\")"
      ],
      "metadata": {
        "colab": {
          "base_uri": "https://localhost:8080/",
          "height": 0
        },
        "id": "UVTmmhonaBPb",
        "outputId": "31d8d5a9-6c20-41d3-f834-504f6c28f839"
      },
      "execution_count": 20,
      "outputs": [
        {
          "output_type": "stream",
          "name": "stdout",
          "text": [
            "genter:male\n",
            "name:varsh\n",
            "age:18\n"
          ]
        }
      ]
    },
    {
      "cell_type": "code",
      "source": [
        "def my_function(*srh):\n",
        "  print(\"kane willimson is caption of \" + srh[2])\n",
        "\n",
        "my_function(\"cool\", \"srh\", \"newzland\")"
      ],
      "metadata": {
        "colab": {
          "base_uri": "https://localhost:8080/",
          "height": 0
        },
        "id": "7tyzX5yEcrRr",
        "outputId": "b896b550-cba8-4af7-cce8-4ebb3ec8f77d"
      },
      "execution_count": 21,
      "outputs": [
        {
          "output_type": "stream",
          "name": "stdout",
          "text": [
            "kane willimson is caption of newzland\n"
          ]
        }
      ]
    },
    {
      "cell_type": "code",
      "source": [
        "def voting(age) :\n",
        "     print(age>=18)\n",
        "voting(18)\n",
        "voting(34)\n",
        "voting(43)"
      ],
      "metadata": {
        "colab": {
          "base_uri": "https://localhost:8080/"
        },
        "id": "vJRaqhfyd0Sq",
        "outputId": "81ae8e54-c88f-4f98-cf06-15b86a4ac1d2"
      },
      "execution_count": 23,
      "outputs": [
        {
          "output_type": "stream",
          "name": "stdout",
          "text": [
            "True\n",
            "True\n",
            "True\n"
          ]
        }
      ]
    }
  ]
}