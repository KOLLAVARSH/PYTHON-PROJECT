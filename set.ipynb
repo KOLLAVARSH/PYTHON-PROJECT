{
  "nbformat": 4,
  "nbformat_minor": 0,
  "metadata": {
    "colab": {
      "name": "set.ipynb",
      "provenance": [],
      "authorship_tag": "ABX9TyPAuTFIXKmn2nD8fUgyA/zu",
      "include_colab_link": true
    },
    "kernelspec": {
      "name": "python3",
      "display_name": "Python 3"
    },
    "language_info": {
      "name": "python"
    }
  },
  "cells": [
    {
      "cell_type": "markdown",
      "metadata": {
        "id": "view-in-github",
        "colab_type": "text"
      },
      "source": [
        "<a href=\"https://colab.research.google.com/github/KOLLAVARSH/PYTHON-PROJECT/blob/main/set.ipynb\" target=\"_parent\"><img src=\"https://colab.research.google.com/assets/colab-badge.svg\" alt=\"Open In Colab\"/></a>"
      ]
    },
    {
      "cell_type": "code",
      "execution_count": null,
      "metadata": {
        "colab": {
          "base_uri": "https://localhost:8080/"
        },
        "id": "7IZIRF3uAu9I",
        "outputId": "e2db2274-5081-4924-ea29-edc6574a4658"
      },
      "outputs": [
        {
          "output_type": "stream",
          "name": "stdout",
          "text": [
            "5\n"
          ]
        }
      ],
      "source": [
        "thisset = {\"apple\",\"banana\",\"mango\",\"kiwi\",\"orange\"}\n",
        "print(len(thisset))"
      ]
    },
    {
      "cell_type": "code",
      "source": [
        "thisset = {\"apple\",\"banana\",\"mango\",\"kiwi\",\"orange\"}\n",
        "print(type(thisset))"
      ],
      "metadata": {
        "colab": {
          "base_uri": "https://localhost:8080/"
        },
        "id": "KV2WzjyMBOzt",
        "outputId": "30dc3bb0-6cfd-48bf-a050-8495afe1359c"
      },
      "execution_count": null,
      "outputs": [
        {
          "output_type": "stream",
          "name": "stdout",
          "text": [
            "<class 'set'>\n"
          ]
        }
      ]
    },
    {
      "cell_type": "code",
      "source": [
        "thisset = set((\"apple\",\"banana\",\"mango\",\"kiwi\",\"orange\"))\n",
        "print(thisset)"
      ],
      "metadata": {
        "colab": {
          "base_uri": "https://localhost:8080/"
        },
        "id": "2FhIQECHBXdk",
        "outputId": "1c90e4b0-879c-432e-da96-54b9e5c054b4"
      },
      "execution_count": null,
      "outputs": [
        {
          "output_type": "stream",
          "name": "stdout",
          "text": [
            "{'mango', 'banana', 'orange', 'kiwi', 'apple'}\n"
          ]
        }
      ]
    },
    {
      "cell_type": "code",
      "source": [
        "thisset = {\"apple\",\"banana\",\"mango\",\"kiwi\",\"orange\"}\n",
        "for x in thisset :\n",
        " print(x)"
      ],
      "metadata": {
        "colab": {
          "base_uri": "https://localhost:8080/"
        },
        "id": "dxQ1AXDbBpxs",
        "outputId": "fd4dd120-8f6b-40b5-9c30-8f15f6b393cc"
      },
      "execution_count": null,
      "outputs": [
        {
          "output_type": "stream",
          "name": "stdout",
          "text": [
            "mango\n",
            "banana\n",
            "orange\n",
            "kiwi\n",
            "apple\n"
          ]
        }
      ]
    },
    {
      "cell_type": "code",
      "source": [
        "thisset = {\"apple\",\"banana\",\"mango\",\"kiwi\",\"orange\"}\n",
        "print(\"kiwi\" in thisset)"
      ],
      "metadata": {
        "colab": {
          "base_uri": "https://localhost:8080/"
        },
        "id": "V4DApmE9CFE3",
        "outputId": "c57aaa02-430a-4e1f-b973-0401f6c06e0a"
      },
      "execution_count": null,
      "outputs": [
        {
          "output_type": "stream",
          "name": "stdout",
          "text": [
            "True\n"
          ]
        }
      ]
    },
    {
      "cell_type": "code",
      "source": [
        "thisset = {\"apple\",\"banana\",\"mango\",\"kiwi\",\"orange\"}\n",
        "thisset.add(\"water melon\")\n",
        "print(thisset)"
      ],
      "metadata": {
        "colab": {
          "base_uri": "https://localhost:8080/"
        },
        "id": "kJa91-DHCfiM",
        "outputId": "db8da978-5e1f-453e-cad3-78e540400c6e"
      },
      "execution_count": null,
      "outputs": [
        {
          "output_type": "stream",
          "name": "stdout",
          "text": [
            "{'mango', 'banana', 'orange', 'water melon', 'kiwi', 'apple'}\n"
          ]
        }
      ]
    },
    {
      "cell_type": "code",
      "source": [
        "thisset1 = {\"kane\",\"lyer\",\"warner\"}\n",
        "thisset2 = {\"srh\",\"kkr\",\"dc\"}\n",
        "thisset1.update(thisset2)\n",
        "print(thisset1)"
      ],
      "metadata": {
        "colab": {
          "base_uri": "https://localhost:8080/"
        },
        "id": "tn97aSkMC5vM",
        "outputId": "8895c05a-771d-4bfc-96ca-c898b33e4c6f"
      },
      "execution_count": 1,
      "outputs": [
        {
          "output_type": "stream",
          "name": "stdout",
          "text": [
            "{'dc', 'srh', 'warner', 'kkr', 'kane', 'lyer'}\n"
          ]
        }
      ]
    },
    {
      "cell_type": "code",
      "source": [
        "thisset = {\"apple\",\"banana\",\"mango\",\"kiwi\",\"orange\"}\n",
        "thisset.remove(\"banana\")\n",
        "print(thisset)"
      ],
      "metadata": {
        "colab": {
          "base_uri": "https://localhost:8080/"
        },
        "id": "Ay4-NrNlJHPr",
        "outputId": "b0619b02-a497-4b3b-86e9-f279a95108a0"
      },
      "execution_count": 3,
      "outputs": [
        {
          "output_type": "stream",
          "name": "stdout",
          "text": [
            "{'orange', 'kiwi', 'apple', 'mango'}\n"
          ]
        }
      ]
    },
    {
      "cell_type": "code",
      "source": [
        "thisset = {\"apple\",\"banana\",\"mango\",\"kiwi\",\"orange\"}\n",
        "thisset.discard(\"mango\")\n",
        "print(thisset)"
      ],
      "metadata": {
        "colab": {
          "base_uri": "https://localhost:8080/"
        },
        "id": "1uWIr8QCJkdU",
        "outputId": "ee2ddfa6-b40a-4d9d-e715-be2b5f0ed3b2"
      },
      "execution_count": 5,
      "outputs": [
        {
          "output_type": "stream",
          "name": "stdout",
          "text": [
            "{'orange', 'banana', 'kiwi', 'apple'}\n"
          ]
        }
      ]
    },
    {
      "cell_type": "code",
      "source": [
        "thisset = {\"apple\",\"banana\",\"mango\",\"kiwi\",\"orange\"}\n",
        "x = thisset.pop()\n",
        "print(x)\n",
        "print(thisset)"
      ],
      "metadata": {
        "colab": {
          "base_uri": "https://localhost:8080/"
        },
        "id": "4UPNglFYJ8cK",
        "outputId": "fb89a4b9-aa9e-4808-9356-c581d2d9222b"
      },
      "execution_count": 7,
      "outputs": [
        {
          "output_type": "stream",
          "name": "stdout",
          "text": [
            "orange\n",
            "{'banana', 'kiwi', 'apple', 'mango'}\n"
          ]
        }
      ]
    },
    {
      "cell_type": "code",
      "source": [
        "thisset = {\"apple\",\"banana\",\"mango\",\"kiwi\",\"orange\"}\n",
        "thisset.clear()\n",
        "print(thisset)"
      ],
      "metadata": {
        "colab": {
          "base_uri": "https://localhost:8080/"
        },
        "id": "oH27l_VMKPKK",
        "outputId": "bc017a59-5675-4170-d689-05f4877243cb"
      },
      "execution_count": 8,
      "outputs": [
        {
          "output_type": "stream",
          "name": "stdout",
          "text": [
            "set()\n"
          ]
        }
      ]
    },
    {
      "cell_type": "code",
      "source": [
        "thisset = {\"apple\",\"banana\",\"mango\",\"kiwi\",\"orange\"}\n",
        "for x in thisset :\n",
        "   print(x)"
      ],
      "metadata": {
        "colab": {
          "base_uri": "https://localhost:8080/"
        },
        "id": "FsxYMzS9KhJU",
        "outputId": "f39d36a4-fb8e-4ebc-974e-94f89b8c456e"
      },
      "execution_count": 11,
      "outputs": [
        {
          "output_type": "stream",
          "name": "stdout",
          "text": [
            "orange\n",
            "banana\n",
            "kiwi\n",
            "apple\n",
            "mango\n"
          ]
        }
      ]
    },
    {
      "cell_type": "code",
      "source": [
        "set1 = {\"a\",\"b\",\"c\"}\n",
        "set2 = {1,2,3}\n",
        "set3 = set1.union(set2)\n",
        "print(set3)"
      ],
      "metadata": {
        "colab": {
          "base_uri": "https://localhost:8080/"
        },
        "id": "xfcD2MtSK9ty",
        "outputId": "f36441a6-b4e9-4cc8-94bf-146b5ff63e39"
      },
      "execution_count": 13,
      "outputs": [
        {
          "output_type": "stream",
          "name": "stdout",
          "text": [
            "{'b', 1, 'a', 2, 3, 'c'}\n"
          ]
        }
      ]
    },
    {
      "cell_type": "code",
      "source": [
        "set1 = {\"a\",\"b\",\"c\"}\n",
        "set2 = {1,2,3}\n",
        "set1.update(set2)\n",
        "print(set1)"
      ],
      "metadata": {
        "colab": {
          "base_uri": "https://localhost:8080/"
        },
        "id": "VwNpwYufLq1i",
        "outputId": "312e5bc2-374f-4608-94f7-ee9bbeb0dc71"
      },
      "execution_count": 15,
      "outputs": [
        {
          "output_type": "stream",
          "name": "stdout",
          "text": [
            "{'b', 1, 'a', 2, 3, 'c'}\n"
          ]
        }
      ]
    },
    {
      "cell_type": "code",
      "source": [
        "set1 = {\"srh\",\"kkr\",\"gt\",\"rr\"}\n",
        "set2 = {\"kane\",\"lyer\",\"david\",\"srh\"}\n",
        "set1.intersection_update(set2)\n",
        "print(set1)\n"
      ],
      "metadata": {
        "colab": {
          "base_uri": "https://localhost:8080/"
        },
        "id": "QiDPJFJhMCJC",
        "outputId": "0a033961-4753-4239-e588-1a9a0d33d993"
      },
      "execution_count": 17,
      "outputs": [
        {
          "output_type": "stream",
          "name": "stdout",
          "text": [
            "{'srh'}\n"
          ]
        }
      ]
    },
    {
      "cell_type": "code",
      "source": [
        "set1 = {\"srh\",\"kkr\",\"gt\",\"rr\"}\n",
        "set2 = {\"kane\",\"lyer\",\"david\",\"srh\"}\n",
        "set3 = set1.intersection(set2)\n",
        "print(set3)"
      ],
      "metadata": {
        "colab": {
          "base_uri": "https://localhost:8080/"
        },
        "id": "iSAVyaelNR39",
        "outputId": "2256976d-6b86-4284-8975-7ec9cf9644bf"
      },
      "execution_count": 20,
      "outputs": [
        {
          "output_type": "stream",
          "name": "stdout",
          "text": [
            "{'srh'}\n"
          ]
        }
      ]
    },
    {
      "cell_type": "code",
      "source": [
        "set1 = {\"srh\",\"kkr\",\"gt\",\"rr\"}\n",
        "set2 = {\"kane\",\"lyer\",\"david\",\"srh\"}\n",
        "set1.symmetric_difference_update(set2)\n",
        "print(set1)"
      ],
      "metadata": {
        "colab": {
          "base_uri": "https://localhost:8080/"
        },
        "id": "QeHhYQBmNsAc",
        "outputId": "7787884f-d79f-4f44-bef0-7db546ef5c65"
      },
      "execution_count": 22,
      "outputs": [
        {
          "output_type": "stream",
          "name": "stdout",
          "text": [
            "{'gt', 'david', 'kane', 'lyer', 'kkr', 'rr'}\n"
          ]
        }
      ]
    },
    {
      "cell_type": "code",
      "source": [
        "set1 = {\"srh\",\"kkr\",\"gt\",\"rr\"}\n",
        "set2 = {\"kane\",\"lyer\",\"david\",\"srh\"}\n",
        "set1.symmetric_difference(set2)\n",
        "print(set1)"
      ],
      "metadata": {
        "colab": {
          "base_uri": "https://localhost:8080/"
        },
        "id": "HOXE1CisOv2x",
        "outputId": "3040f663-8409-43a2-fca3-1fcdec5779bf"
      },
      "execution_count": 25,
      "outputs": [
        {
          "output_type": "stream",
          "name": "stdout",
          "text": [
            "{'gt', 'kkr', 'srh', 'rr'}\n"
          ]
        }
      ]
    },
    {
      "cell_type": "code",
      "source": [
        ""
      ],
      "metadata": {
        "id": "8gA24gZMPK9t"
      },
      "execution_count": null,
      "outputs": []
    }
  ]
}