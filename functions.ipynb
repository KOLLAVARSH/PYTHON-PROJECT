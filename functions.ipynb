{
  "nbformat": 4,
  "nbformat_minor": 0,
  "metadata": {
    "colab": {
      "name": "functions.ipynb",
      "provenance": [],
      "authorship_tag": "ABX9TyOLhKeKBZdi1X3tGxa4reRH",
      "include_colab_link": true
    },
    "kernelspec": {
      "name": "python3",
      "display_name": "Python 3"
    },
    "language_info": {
      "name": "python"
    }
  },
  "cells": [
    {
      "cell_type": "markdown",
      "metadata": {
        "id": "view-in-github",
        "colab_type": "text"
      },
      "source": [
        "<a href=\"https://colab.research.google.com/github/KOLLAVARSH/PYTHON-PROJECT/blob/main/functions.ipynb\" target=\"_parent\"><img src=\"https://colab.research.google.com/assets/colab-badge.svg\" alt=\"Open In Colab\"/></a>"
      ]
    },
    {
      "cell_type": "code",
      "execution_count": null,
      "metadata": {
        "colab": {
          "base_uri": "https://localhost:8080/"
        },
        "id": "n9btjzB8L_kv",
        "outputId": "4585ff1d-fdfb-4704-85c5-85bf5f519056"
      },
      "outputs": [
        {
          "output_type": "stream",
          "name": "stdout",
          "text": [
            "sunrisers won by 7 wickets\n"
          ]
        }
      ],
      "source": [
        "def my_function():\n",
        "   print(\"sunrisers won by 7 wickets\")\n",
        "my_function()"
      ]
    },
    {
      "cell_type": "code",
      "source": [
        "def my_function(fname) :\n",
        "    print(fname + \" willimson\")\n",
        "my_function(\"kane\")\n",
        "my_function(\"srh caption\")\n",
        "my_function(\"cool caption\")"
      ],
      "metadata": {
        "colab": {
          "base_uri": "https://localhost:8080/"
        },
        "id": "Vxfdn2reV6m7",
        "outputId": "ee70da18-c982-4963-bad7-3beb6e9893ce"
      },
      "execution_count": null,
      "outputs": [
        {
          "output_type": "stream",
          "name": "stdout",
          "text": [
            "kane willimson\n",
            "srh caption willimson\n",
            "cool caption willimson\n"
          ]
        }
      ]
    },
    {
      "cell_type": "code",
      "source": [
        "def my_function(fname,iname) :\n",
        "      print(fname + \" \" + iname)\n",
        "my_function(\"kane\",\"willimson\")      "
      ],
      "metadata": {
        "colab": {
          "base_uri": "https://localhost:8080/"
        },
        "id": "Uwv9cVR8XG9f",
        "outputId": "90a13dcd-7037-42ce-b4c1-b083d3548af9"
      },
      "execution_count": null,
      "outputs": [
        {
          "output_type": "stream",
          "name": "stdout",
          "text": [
            "kane willimson\n"
          ]
        }
      ]
    },
    {
      "cell_type": "code",
      "source": [
        "def my_function(fname,iname) :\n",
        "      print(fname + \" \" + iname)\n",
        "my_function(\"yes you are\",\"eligible for vote\") "
      ],
      "metadata": {
        "colab": {
          "base_uri": "https://localhost:8080/"
        },
        "id": "0iQzaYUJXypy",
        "outputId": "a675f8e9-8e3e-4d33-ed89-d53c5a8e4870"
      },
      "execution_count": null,
      "outputs": [
        {
          "output_type": "stream",
          "name": "stdout",
          "text": [
            "yes you are eligible for vote\n"
          ]
        }
      ]
    },
    {
      "cell_type": "code",
      "source": [
        "def my_function(g,i,f) :\n",
        "     print(g + \"male\")\n",
        "     print(i + \"varsh\")\n",
        "     print(f + \"18\")\n",
        "my_function(\"genter:\",\"name:\",\"age:\")"
      ],
      "metadata": {
        "colab": {
          "base_uri": "https://localhost:8080/"
        },
        "id": "UVTmmhonaBPb",
        "outputId": "31d8d5a9-6c20-41d3-f834-504f6c28f839"
      },
      "execution_count": null,
      "outputs": [
        {
          "output_type": "stream",
          "name": "stdout",
          "text": [
            "genter:male\n",
            "name:varsh\n",
            "age:18\n"
          ]
        }
      ]
    },
    {
      "cell_type": "code",
      "source": [
        "def my_function(*srh):\n",
        "  print(\"kane willimson is caption of \" + srh[2])\n",
        "\n",
        "my_function(\"cool\", \"srh\", \"newzland\")"
      ],
      "metadata": {
        "colab": {
          "base_uri": "https://localhost:8080/"
        },
        "id": "7tyzX5yEcrRr",
        "outputId": "b896b550-cba8-4af7-cce8-4ebb3ec8f77d"
      },
      "execution_count": null,
      "outputs": [
        {
          "output_type": "stream",
          "name": "stdout",
          "text": [
            "kane willimson is caption of newzland\n"
          ]
        }
      ]
    },
    {
      "cell_type": "code",
      "source": [
        "def voting(age) :\n",
        "     print(age>=18)\n",
        "voting(18)\n",
        "voting(34)\n",
        "voting(43)"
      ],
      "metadata": {
        "colab": {
          "base_uri": "https://localhost:8080/"
        },
        "id": "vJRaqhfyd0Sq",
        "outputId": "81ae8e54-c88f-4f98-cf06-15b86a4ac1d2"
      },
      "execution_count": null,
      "outputs": [
        {
          "output_type": "stream",
          "name": "stdout",
          "text": [
            "True\n",
            "True\n",
            "True\n"
          ]
        }
      ]
    },
    {
      "cell_type": "code",
      "source": [
        "def my_function(child3, child2, child1):\n",
        "  print(\"The youngest child is \" + child3)\n",
        "\n",
        "my_function(child1 = \"varsh\", child2 = \"prajwal\", child3 = \"puskar\")"
      ],
      "metadata": {
        "colab": {
          "base_uri": "https://localhost:8080/"
        },
        "id": "fP4XYt3zfxfC",
        "outputId": "6dc5a14e-e3a0-497e-f417-b66c6d980e07"
      },
      "execution_count": 4,
      "outputs": [
        {
          "output_type": "stream",
          "name": "stdout",
          "text": [
            "The youngest child is puskar\n"
          ]
        }
      ]
    },
    {
      "cell_type": "code",
      "source": [
        "def my_function(**kid):\n",
        "  print(\"His last name is \" + kid[\"lname\"])\n",
        "\n",
        "my_function(fname = \"prajwal\", lname = \"varsh\")"
      ],
      "metadata": {
        "colab": {
          "base_uri": "https://localhost:8080/"
        },
        "id": "SQhUFxS2iYFt",
        "outputId": "e66caf01-5a43-4053-8232-4bc3eaf7e870"
      },
      "execution_count": 6,
      "outputs": [
        {
          "output_type": "stream",
          "name": "stdout",
          "text": [
            "His last name is varsh\n"
          ]
        }
      ]
    },
    {
      "cell_type": "code",
      "source": [
        "def my_function(country = \"Norway\"):\n",
        "  print(\"I am from \" + country)\n",
        "\n",
        "my_function(\"Sweden\")\n",
        "my_function(\"India\")\n",
        "my_function()\n",
        "my_function(\"Brazil\")"
      ],
      "metadata": {
        "colab": {
          "base_uri": "https://localhost:8080/"
        },
        "id": "fp0wv4vHioi-",
        "outputId": "3f85b255-1c1e-4ae9-8fda-a99af44989ee"
      },
      "execution_count": 8,
      "outputs": [
        {
          "output_type": "stream",
          "name": "stdout",
          "text": [
            "I am from Sweden\n",
            "I am from India\n",
            "I am from Norway\n",
            "I am from Brazil\n"
          ]
        }
      ]
    },
    {
      "cell_type": "code",
      "source": [
        "def my_function(food) :\n",
        "  for x in food :\n",
        "    print(x)\n",
        "\n",
        "fruits = [\"apple\" , \"banana\" , \"mango\"]\n",
        "my_function(fruits)"
      ],
      "metadata": {
        "colab": {
          "base_uri": "https://localhost:8080/"
        },
        "id": "WawIwlKAjA8E",
        "outputId": "f1f71d01-b86b-4027-ed0f-7d2c7d90e1ae"
      },
      "execution_count": 10,
      "outputs": [
        {
          "output_type": "stream",
          "name": "stdout",
          "text": [
            "apple\n",
            "banana\n",
            "mango\n"
          ]
        }
      ]
    },
    {
      "cell_type": "code",
      "source": [
        "def my_function(x) :\n",
        " return 5 * x\n",
        "print(my_function(3))\n",
        "print(my_function(5))\n",
        "print(my_function(6))\n"
      ],
      "metadata": {
        "colab": {
          "base_uri": "https://localhost:8080/"
        },
        "id": "fdb6oZSfkV1V",
        "outputId": "5d1d2120-74e6-4197-ef7a-7498c9b24c20"
      },
      "execution_count": 16,
      "outputs": [
        {
          "output_type": "stream",
          "name": "stdout",
          "text": [
            "15\n",
            "25\n",
            "30\n"
          ]
        }
      ]
    },
    {
      "cell_type": "code",
      "source": [
        ""
      ],
      "metadata": {
        "id": "N0dzvlOpl-zG"
      },
      "execution_count": null,
      "outputs": []
    }
  ]
}