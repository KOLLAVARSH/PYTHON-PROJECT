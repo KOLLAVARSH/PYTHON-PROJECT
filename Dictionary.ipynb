{
  "nbformat": 4,
  "nbformat_minor": 0,
  "metadata": {
    "colab": {
      "name": "Dictionary.ipynb",
      "provenance": [],
      "authorship_tag": "ABX9TyN/KYHVh8w8tyHWnk0lEi0m",
      "include_colab_link": true
    },
    "kernelspec": {
      "name": "python3",
      "display_name": "Python 3"
    },
    "language_info": {
      "name": "python"
    }
  },
  "cells": [
    {
      "cell_type": "markdown",
      "metadata": {
        "id": "view-in-github",
        "colab_type": "text"
      },
      "source": [
        "<a href=\"https://colab.research.google.com/github/KOLLAVARSH/PYTHON-PROJECT/blob/main/Dictionary.ipynb\" target=\"_parent\"><img src=\"https://colab.research.google.com/assets/colab-badge.svg\" alt=\"Open In Colab\"/></a>"
      ]
    },
    {
      "cell_type": "code",
      "execution_count": 4,
      "metadata": {
        "colab": {
          "base_uri": "https://localhost:8080/"
        },
        "id": "LTsUFRPVQKxd",
        "outputId": "7335389b-d436-4ac9-a6b9-9dc66ff1b338"
      },
      "outputs": [
        {
          "output_type": "stream",
          "name": "stdout",
          "text": [
            "{'Team': 'SRH', 'Caption': 'kane williamson', 'IPl winner': 2016}\n"
          ]
        }
      ],
      "source": [
        "thisdict = {\n",
        "    \"Team\" : \"SRH\" ,\n",
        "    \"Caption\" : \"kane williamson\" ,\n",
        "    \"IPl winner\" : 2016\n",
        "}\n",
        "print(thisdict)"
      ]
    },
    {
      "cell_type": "code",
      "source": [
        "thisdict = {\n",
        "    \"Team\" : \"SRH\" ,\n",
        "    \"Caption\" : \"kane williamson\" ,\n",
        "    \"IPl winner\" : 2016\n",
        "}\n",
        "print(thisdict[\"Caption\"])"
      ],
      "metadata": {
        "colab": {
          "base_uri": "https://localhost:8080/"
        },
        "id": "D8YmrmCURmsU",
        "outputId": "6e01b0b6-31ea-4ec8-fdf3-ded97b1dd6de"
      },
      "execution_count": 7,
      "outputs": [
        {
          "output_type": "stream",
          "name": "stdout",
          "text": [
            "kane williamson\n"
          ]
        }
      ]
    },
    {
      "cell_type": "code",
      "source": [
        "thisdict = {\n",
        "    \"Team\" : \"SRH\" ,\n",
        "    \"Caption\" : \"kane williamson\" ,\n",
        "    \"IPl winner\" : 2018 ,\n",
        "    \"IPL winner\" : 2016\n",
        "}\n",
        "print(thisdict)"
      ],
      "metadata": {
        "colab": {
          "base_uri": "https://localhost:8080/"
        },
        "id": "tMUxdi2PSCNG",
        "outputId": "8c112def-b902-4d4a-eb3d-a5f75c5d18e9"
      },
      "execution_count": 10,
      "outputs": [
        {
          "output_type": "stream",
          "name": "stdout",
          "text": [
            "{'Team': 'SRH', 'Caption': 'kane williamson', 'IPl winner': 2018, 'IPL winner': 2016}\n"
          ]
        }
      ]
    },
    {
      "cell_type": "code",
      "source": [
        "thisdict = {\n",
        "    \"Team\" : \"SRH\" ,\n",
        "    \"Caption\" : \"kane williamson\" ,\n",
        "    \"IPl winner\" : 2016\n",
        "}\n",
        "print(len(thisdict))"
      ],
      "metadata": {
        "colab": {
          "base_uri": "https://localhost:8080/"
        },
        "id": "Gom40NIDSYRw",
        "outputId": "ec416c5d-8f35-4397-e7b4-07ba1e1502b9"
      },
      "execution_count": 12,
      "outputs": [
        {
          "output_type": "stream",
          "name": "stdout",
          "text": [
            "3\n"
          ]
        }
      ]
    },
    {
      "cell_type": "code",
      "source": [
        "thisdict = {\n",
        "    \"Team\" : \"SRH\" ,\n",
        "    \"Caption\" : \"kane williamson\" ,\n",
        "    \"IPl winner\" : 2016 ,\n",
        "    \"Players\" : [\"markram\",\"rahul\",\"natarajan\"]\n",
        "}\n",
        "print(thisdict)"
      ],
      "metadata": {
        "colab": {
          "base_uri": "https://localhost:8080/"
        },
        "id": "_WsTwhgFSopZ",
        "outputId": "c87294dc-e00b-4467-a535-de2ea0383d90"
      },
      "execution_count": 15,
      "outputs": [
        {
          "output_type": "stream",
          "name": "stdout",
          "text": [
            "{'Team': 'SRH', 'Caption': 'kane williamson', 'IPl winner': 2016, 'Players': ['markram', 'rahul', 'natarajan']}\n"
          ]
        }
      ]
    },
    {
      "cell_type": "code",
      "source": [
        "thisdict = {\n",
        "    \"Team\" : \"SRH\" ,\n",
        "    \"Caption\" : \"kane williamson\" ,\n",
        "    \"IPl winner\" : 2016\n",
        "}\n",
        "print(type(thisdict))"
      ],
      "metadata": {
        "colab": {
          "base_uri": "https://localhost:8080/"
        },
        "id": "waudtz_cTUFU",
        "outputId": "8b4a875f-f781-4aea-971b-180055953a74"
      },
      "execution_count": 17,
      "outputs": [
        {
          "output_type": "stream",
          "name": "stdout",
          "text": [
            "<class 'dict'>\n"
          ]
        }
      ]
    },
    {
      "cell_type": "code",
      "source": [
        "thisdict = {\n",
        "    \"Team\" : \"SRH\" ,\n",
        "    \"Caption\" : \"kane williamson\" ,\n",
        "    \"IPl winner\" : 2016\n",
        "}\n",
        "x = thisdict[\"Caption\"]\n",
        "print(x)"
      ],
      "metadata": {
        "colab": {
          "base_uri": "https://localhost:8080/"
        },
        "id": "KvKO91_ZTqj_",
        "outputId": "fc608a7a-88e9-482c-c130-b5fcb84c54d2"
      },
      "execution_count": 20,
      "outputs": [
        {
          "output_type": "stream",
          "name": "stdout",
          "text": [
            "kane williamson\n"
          ]
        }
      ]
    },
    {
      "cell_type": "code",
      "source": [
        "thisdict = {\n",
        "    \"Team\" : \"SRH\" ,\n",
        "    \"Caption\" : \"kane williamson\" ,\n",
        "    \"IPl winner\" : 2016\n",
        "}\n",
        "x = thisdict.get(\"Caption\")\n",
        "print(x)"
      ],
      "metadata": {
        "colab": {
          "base_uri": "https://localhost:8080/"
        },
        "id": "gxb6lXW3UORv",
        "outputId": "1ace4b62-0337-4bf8-959a-f134c942bb4a"
      },
      "execution_count": 22,
      "outputs": [
        {
          "output_type": "stream",
          "name": "stdout",
          "text": [
            "kane williamson\n"
          ]
        }
      ]
    },
    {
      "cell_type": "code",
      "source": [
        "thisdict = {\n",
        "    \"Team\" : \"SRH\" ,\n",
        "    \"Caption\" : \"kane williamson\" ,\n",
        "    \"IPl winner\" : 2016\n",
        "}\n",
        "x = thisdict.keys()\n",
        "print(x)"
      ],
      "metadata": {
        "colab": {
          "base_uri": "https://localhost:8080/"
        },
        "id": "OFQjAbPfUoxm",
        "outputId": "d2b23502-4190-477d-8fa0-35123b419959"
      },
      "execution_count": 26,
      "outputs": [
        {
          "output_type": "stream",
          "name": "stdout",
          "text": [
            "dict_keys(['Team', 'Caption', 'IPl winner'])\n"
          ]
        }
      ]
    },
    {
      "cell_type": "code",
      "source": [
        "IPL = {\n",
        "    \"Team\" : \"SRH\" ,\n",
        "    \"Caption\" : \"kane williamson\" ,\n",
        "    \"IPl winner\" : 2016\n",
        "}\n",
        "x = IPL.keys()\n",
        "print(x)\n",
        "IPL[\"Colour\"] = \"Orange\"\n",
        "print(x)"
      ],
      "metadata": {
        "colab": {
          "base_uri": "https://localhost:8080/"
        },
        "id": "FatucZytVjYx",
        "outputId": "4e583e2b-9e59-40f4-959b-a109ce91fd41"
      },
      "execution_count": 28,
      "outputs": [
        {
          "output_type": "stream",
          "name": "stdout",
          "text": [
            "dict_keys(['Team', 'Caption', 'IPl winner'])\n",
            "dict_keys(['Team', 'Caption', 'IPl winner', 'Colour'])\n"
          ]
        }
      ]
    },
    {
      "cell_type": "code",
      "source": [
        "thisdict = {\n",
        "    \"Team\" : \"SRH\" ,\n",
        "    \"Caption\" : \"kane williamson\" ,\n",
        "    \"IPl winner\" : 2016\n",
        "}\n",
        "x = thisdict.values()\n",
        "print(x)"
      ],
      "metadata": {
        "colab": {
          "base_uri": "https://localhost:8080/"
        },
        "id": "C1nI2M-QWSVy",
        "outputId": "8661d01b-e0d3-4c79-bce6-ca8b59e9939f"
      },
      "execution_count": 30,
      "outputs": [
        {
          "output_type": "stream",
          "name": "stdout",
          "text": [
            "dict_values(['SRH', 'kane williamson', 2016])\n"
          ]
        }
      ]
    },
    {
      "cell_type": "code",
      "source": [
        "IPL = {\n",
        "    \"Team\" : \"SRH\" ,\n",
        "    \"Caption\" : \"kane williamson\" ,\n",
        "    \"IPl winner\" : 2016\n",
        "}\n",
        "x = IPL.keys()\n",
        "print(x)\n",
        "IPL[\"IPL winner\"] = \"2018\"\n",
        "print(x)"
      ],
      "metadata": {
        "colab": {
          "base_uri": "https://localhost:8080/"
        },
        "id": "bfRevHtVWfWs",
        "outputId": "eddca7d3-8325-4559-a652-1234d338eacd"
      },
      "execution_count": 32,
      "outputs": [
        {
          "output_type": "stream",
          "name": "stdout",
          "text": [
            "dict_keys(['Team', 'Caption', 'IPl winner'])\n",
            "dict_keys(['Team', 'Caption', 'IPl winner', 'IPL winner'])\n"
          ]
        }
      ]
    },
    {
      "cell_type": "code",
      "source": [
        "IPL = {\n",
        "    \"Team\" : \"SRH\" ,\n",
        "    \"Caption\" : \"kane williamson\" ,\n",
        "    \"IPl winner\" : 2016\n",
        "}\n",
        "x = IPL.values()\n",
        "print(x)\n",
        "IPL[\"Colour\"] = \"Orange\"\n",
        "print(x)"
      ],
      "metadata": {
        "colab": {
          "base_uri": "https://localhost:8080/"
        },
        "id": "weZyg0xCW40H",
        "outputId": "3d6ce824-04c5-4960-9ee7-6013327fa3ac"
      },
      "execution_count": 34,
      "outputs": [
        {
          "output_type": "stream",
          "name": "stdout",
          "text": [
            "dict_values(['SRH', 'kane williamson', 2016])\n",
            "dict_values(['SRH', 'kane williamson', 2016, 'Orange'])\n"
          ]
        }
      ]
    },
    {
      "cell_type": "code",
      "source": [
        "thisdict = {\n",
        "    \"Team\" : \"SRH\" ,\n",
        "    \"Caption\" : \"kane williamson\" ,\n",
        "    \"IPl winner\" : 2016\n",
        "}\n",
        "x = thisdict.items()\n",
        "print(x)"
      ],
      "metadata": {
        "colab": {
          "base_uri": "https://localhost:8080/"
        },
        "id": "sUM3dFxgXVqe",
        "outputId": "11dc819d-1a7c-48b2-86dc-ca75612f4c5b"
      },
      "execution_count": 36,
      "outputs": [
        {
          "output_type": "stream",
          "name": "stdout",
          "text": [
            "dict_items([('Team', 'SRH'), ('Caption', 'kane williamson'), ('IPl winner', 2016)])\n"
          ]
        }
      ]
    },
    {
      "cell_type": "code",
      "source": [
        "IPL = {\n",
        "    \"Team\" : \"SRH\" ,\n",
        "    \"Caption\" : \"kane williamson\" ,\n",
        "    \"IPl winner\" : 2016\n",
        "}\n",
        "x = IPL.items()\n",
        "print(x)\n",
        "IPL[\"IPL winner\"] = \"2018\"\n",
        "print(x)"
      ],
      "metadata": {
        "colab": {
          "base_uri": "https://localhost:8080/"
        },
        "id": "r81bSDf1YFc4",
        "outputId": "a9962023-d9a9-42ba-ce64-b96bf69cedd9"
      },
      "execution_count": 38,
      "outputs": [
        {
          "output_type": "stream",
          "name": "stdout",
          "text": [
            "dict_items([('Team', 'SRH'), ('Caption', 'kane williamson'), ('IPl winner', 2016)])\n",
            "dict_items([('Team', 'SRH'), ('Caption', 'kane williamson'), ('IPl winner', 2016), ('IPL winner', '2018')])\n"
          ]
        }
      ]
    },
    {
      "cell_type": "code",
      "source": [
        "IPL = {\n",
        "    \"Team\" : \"SRH\" ,\n",
        "    \"Caption\" : \"kane williamson\" ,\n",
        "    \"IPl winner\" : 2016\n",
        "}\n",
        "x = IPL.items()\n",
        "print(x)\n",
        "IPL[\"Colour\"] = \"Orange\"\n",
        "print(x)"
      ],
      "metadata": {
        "colab": {
          "base_uri": "https://localhost:8080/"
        },
        "id": "1jYoiI3-YJ-J",
        "outputId": "6aee6cfd-febf-4275-ef2f-5ba309e6ae03"
      },
      "execution_count": 40,
      "outputs": [
        {
          "output_type": "stream",
          "name": "stdout",
          "text": [
            "dict_items([('Team', 'SRH'), ('Caption', 'kane williamson'), ('IPl winner', 2016)])\n",
            "dict_items([('Team', 'SRH'), ('Caption', 'kane williamson'), ('IPl winner', 2016), ('Colour', 'Orange')])\n"
          ]
        }
      ]
    },
    {
      "cell_type": "code",
      "source": [
        "thisdict = {\n",
        "    \"Team\" : \"SRH\" ,\n",
        "    \"Caption\" : \"kane williamson\" ,\n",
        "    \"IPl winner\" : 2016\n",
        "}\n",
        "if \"Caption\" in thisdict :\n",
        "  print(\"yes,'Caption' is one of the keys in the thisdict dictionary\")"
      ],
      "metadata": {
        "colab": {
          "base_uri": "https://localhost:8080/"
        },
        "id": "ifxYo_iDYahD",
        "outputId": "1bdbcd43-fff8-498b-dac1-6324556f1d50"
      },
      "execution_count": 42,
      "outputs": [
        {
          "output_type": "stream",
          "name": "stdout",
          "text": [
            "yes,'Caption' is one of the keys in the thisdict dictionary\n"
          ]
        }
      ]
    },
    {
      "cell_type": "code",
      "source": [
        "thisdict = {\n",
        "    \"Team\" : \"SRH\" ,\n",
        "    \"Caption\" : \"kane williamson\" ,\n",
        "    \"IPl winner\" : 2018\n",
        "}\n",
        "thisdict.update({\"IPL winner \": 2016})\n",
        "print(thisdict)"
      ],
      "metadata": {
        "colab": {
          "base_uri": "https://localhost:8080/"
        },
        "id": "ih3Q3jRQZDE0",
        "outputId": "98afdde3-aca9-453b-8fb8-5e10576c4312"
      },
      "execution_count": 45,
      "outputs": [
        {
          "output_type": "stream",
          "name": "stdout",
          "text": [
            "{'Team': 'SRH', 'Caption': 'kane williamson', 'IPl winner': 2018, 'IPL winner ': 2016}\n"
          ]
        }
      ]
    },
    {
      "cell_type": "code",
      "source": [
        "thisdict = {\n",
        "    \"Team\" : \"SRH\" ,\n",
        "    \"Caption\" : \"kane williamson\" ,\n",
        "    \"IPl winner\" : 2016\n",
        "}\n",
        "thisdict.pop(\"Caption\")\n",
        "print(thisdict)"
      ],
      "metadata": {
        "colab": {
          "base_uri": "https://localhost:8080/"
        },
        "id": "RlZGsPKUZk-B",
        "outputId": "8c795fdf-08cf-42ad-9d8d-1d1b26b1d33f"
      },
      "execution_count": 48,
      "outputs": [
        {
          "output_type": "stream",
          "name": "stdout",
          "text": [
            "{'Team': 'SRH', 'IPl winner': 2016}\n"
          ]
        }
      ]
    },
    {
      "cell_type": "code",
      "source": [
        "thisdict = {\n",
        "    \"Team\" : \"SRH\" ,\n",
        "    \"Caption\" : \"kane williamson\" ,\n",
        "    \"IPl winner\" : 2016\n",
        "}\n",
        "thisdict.popitem()\n",
        "print(thisdict)"
      ],
      "metadata": {
        "colab": {
          "base_uri": "https://localhost:8080/"
        },
        "id": "JQZMKN_qeSSy",
        "outputId": "9ec25f24-be4b-45ee-b32c-9937cbdb9e2d"
      },
      "execution_count": 49,
      "outputs": [
        {
          "output_type": "stream",
          "name": "stdout",
          "text": [
            "{'Team': 'SRH', 'Caption': 'kane williamson'}\n"
          ]
        }
      ]
    }
  ]
}