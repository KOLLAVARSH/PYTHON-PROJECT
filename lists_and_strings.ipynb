{
  "nbformat": 4,
  "nbformat_minor": 0,
  "metadata": {
    "colab": {
      "name": "lists and strings.ipynb",
      "provenance": [],
      "authorship_tag": "ABX9TyMBcVyd4pLUu38suJGDIzWr",
      "include_colab_link": true
    },
    "kernelspec": {
      "name": "python3",
      "display_name": "Python 3"
    },
    "language_info": {
      "name": "python"
    }
  },
  "cells": [
    {
      "cell_type": "markdown",
      "metadata": {
        "id": "view-in-github",
        "colab_type": "text"
      },
      "source": [
        "<a href=\"https://colab.research.google.com/github/KOLLAVARSH/PYTHON-PROJECT/blob/main/lists_and_strings.ipynb\" target=\"_parent\"><img src=\"https://colab.research.google.com/assets/colab-badge.svg\" alt=\"Open In Colab\"/></a>"
      ]
    },
    {
      "cell_type": "code",
      "execution_count": 1,
      "metadata": {
        "colab": {
          "base_uri": "https://localhost:8080/"
        },
        "id": "-MYu1AOxJvXF",
        "outputId": "ff17b0de-0d3a-4e2a-f95c-d53112278909"
      },
      "outputs": [
        {
          "output_type": "stream",
          "name": "stdout",
          "text": [
            "3\n"
          ]
        }
      ],
      "source": [
        "thislist = [\"apple\",\"mango\",\"banana\"]\n",
        "print(len(thislist))"
      ]
    },
    {
      "cell_type": "code",
      "source": [
        "thislist = [\"apple\",\"mango\",\"banana\"]\n",
        "print(type(thislist))"
      ],
      "metadata": {
        "colab": {
          "base_uri": "https://localhost:8080/"
        },
        "id": "cMi-85ehKkOT",
        "outputId": "da5263fc-d3a7-4683-821d-7c211ddef076"
      },
      "execution_count": 3,
      "outputs": [
        {
          "output_type": "stream",
          "name": "stdout",
          "text": [
            "<class 'list'>\n"
          ]
        }
      ]
    },
    {
      "cell_type": "code",
      "source": [
        "thislist = list((\"apple\",\"mango\",\"banana\"))\n",
        "print(thislist)"
      ],
      "metadata": {
        "colab": {
          "base_uri": "https://localhost:8080/"
        },
        "id": "1q6gITD8LgT0",
        "outputId": "2e635aa7-f98c-4bc3-acd1-e186eb2b14c8"
      },
      "execution_count": 5,
      "outputs": [
        {
          "output_type": "stream",
          "name": "stdout",
          "text": [
            "['apple', 'mango', 'banana']\n"
          ]
        }
      ]
    },
    {
      "cell_type": "code",
      "source": [
        "thislist = [\"apple\",\"mango\",\"banana\",\"kiwi\",\"water melon\"]\n",
        "print(thislist[1])"
      ],
      "metadata": {
        "colab": {
          "base_uri": "https://localhost:8080/"
        },
        "id": "blQksMbpMMXm",
        "outputId": "95431082-4792-4a44-afd4-251f8e617ec3"
      },
      "execution_count": 7,
      "outputs": [
        {
          "output_type": "stream",
          "name": "stdout",
          "text": [
            "mango\n"
          ]
        }
      ]
    },
    {
      "cell_type": "code",
      "source": [
        "thislist = [\"apple\",\"mango\",\"banana\",\"kiiwi\",\"water melon\"]\n",
        "print(thislist[-1])"
      ],
      "metadata": {
        "colab": {
          "base_uri": "https://localhost:8080/"
        },
        "id": "DGtafi6RM7Ga",
        "outputId": "4c5f7c52-825c-4f8a-d9f8-e855636250e9"
      },
      "execution_count": 10,
      "outputs": [
        {
          "output_type": "stream",
          "name": "stdout",
          "text": [
            "water melon\n"
          ]
        }
      ]
    },
    {
      "cell_type": "code",
      "source": [
        "thislist = [\"apple\",\"mango\",\"banana\",\"kiiwi\",\"water melon\"]\n",
        "print(thislist[:2])"
      ],
      "metadata": {
        "colab": {
          "base_uri": "https://localhost:8080/"
        },
        "id": "VS2yCAgRNUxq",
        "outputId": "fb0aacba-0e72-4887-e517-85c7309a446f"
      },
      "execution_count": 16,
      "outputs": [
        {
          "output_type": "stream",
          "name": "stdout",
          "text": [
            "['apple', 'mango']\n"
          ]
        }
      ]
    },
    {
      "cell_type": "code",
      "source": [
        "thislist = [\"apple\",\"mango\",\"banana\",\"kiiwi\",\"water melon\"]\n",
        "print(thislist[-4:-1])"
      ],
      "metadata": {
        "colab": {
          "base_uri": "https://localhost:8080/"
        },
        "outputId": "73445efd-8ece-48dc-a936-1ea2ff5f2c8d",
        "id": "JCUaTcOrNrib"
      },
      "execution_count": 12,
      "outputs": [
        {
          "output_type": "stream",
          "name": "stdout",
          "text": [
            "['mango', 'banana', 'kiiwi']\n"
          ]
        }
      ]
    },
    {
      "cell_type": "code",
      "source": [
        "thislist = [\"apple\",\"mango\",\"banana\",\"kiiwi\",\"water melon\"]\n",
        "print(thislist[2:5])"
      ],
      "metadata": {
        "colab": {
          "base_uri": "https://localhost:8080/"
        },
        "outputId": "fed461ca-7c74-4e55-db2f-1b00f18f6cd6",
        "id": "WTI0xqatNhWU"
      },
      "execution_count": 17,
      "outputs": [
        {
          "output_type": "stream",
          "name": "stdout",
          "text": [
            "['banana', 'kiiwi', 'water melon']\n"
          ]
        }
      ]
    },
    {
      "cell_type": "code",
      "source": [
        "thislist = [\"apple\",\"mango\",\"banana\",\"kiiwi\",\"water melon\"]\n",
        "print(thislist[4:])"
      ],
      "metadata": {
        "colab": {
          "base_uri": "https://localhost:8080/"
        },
        "id": "hoMnOLkhORUy",
        "outputId": "76d52a9c-aeb3-4fe8-f475-af4689cdb242"
      },
      "execution_count": 19,
      "outputs": [
        {
          "output_type": "stream",
          "name": "stdout",
          "text": [
            "['water melon']\n"
          ]
        }
      ]
    },
    {
      "cell_type": "code",
      "source": [
        "thislist = [\"apple\",\"mango\",\"banana\",\"kiiwi\",\"water melon\"]\n",
        "if \"apple\" in thislist :\n",
        "  print(\"yes,'apple'in the list\")\n",
        "else : \n",
        " print (\"no,'apple'in the list\")"
      ],
      "metadata": {
        "colab": {
          "base_uri": "https://localhost:8080/"
        },
        "id": "5iT4qJawOc4k",
        "outputId": "f12dab18-2166-4da7-9348-53fe1d0e52e3"
      },
      "execution_count": 26,
      "outputs": [
        {
          "output_type": "stream",
          "name": "stdout",
          "text": [
            "yes,'apple'in the list\n"
          ]
        }
      ]
    },
    {
      "cell_type": "code",
      "source": [
        "thislist = [\"apple\",\"mango\",\"banana\",\"kiiwi\",\"water melon\"]\n",
        "thislist.append(\"orange\")\n",
        "print(thislist)"
      ],
      "metadata": {
        "colab": {
          "base_uri": "https://localhost:8080/"
        },
        "id": "1F5yGgAwP6_B",
        "outputId": "6effc74e-d943-4875-9208-c5058f809cdb"
      },
      "execution_count": 29,
      "outputs": [
        {
          "output_type": "stream",
          "name": "stdout",
          "text": [
            "['apple', 'mango', 'banana', 'kiiwi', 'water melon', 'orange']\n"
          ]
        }
      ]
    },
    {
      "cell_type": "code",
      "source": [
        "thislist = [\"apple\",\"mango\",\"banana\",\"kiiwi\",\"water melon\"]\n",
        "thislist.insert(0,\"orange\")\n",
        "print(thislist)"
      ],
      "metadata": {
        "colab": {
          "base_uri": "https://localhost:8080/"
        },
        "id": "9pT2zqe5Qx9W",
        "outputId": "4fa12340-cf90-4c13-f5a0-43154c65d4cb"
      },
      "execution_count": 37,
      "outputs": [
        {
          "output_type": "stream",
          "name": "stdout",
          "text": [
            "['orange', 'apple', 'mango', 'banana', 'kiiwi', 'water melon']\n"
          ]
        }
      ]
    },
    {
      "cell_type": "code",
      "source": [
        "list1 = [\"apple\",\"mango\",\"banana\",\"kiiwi\",\"water melon\"]\n",
        "list2 = [\"apple\",\"mango\",\"banana\",\"kiwi\",\"orange\"]\n",
        "list1.extend(list2)\n",
        "print(list1)"
      ],
      "metadata": {
        "colab": {
          "base_uri": "https://localhost:8080/"
        },
        "id": "CkiU1MeZRHim",
        "outputId": "fe993590-4fe2-4463-ac43-77d961982c2e"
      },
      "execution_count": 35,
      "outputs": [
        {
          "output_type": "stream",
          "name": "stdout",
          "text": [
            "['apple', 'mango', 'banana', 'kiiwi', 'water melon', 'apple', 'mango', 'banana', 'kiwi', 'orange']\n"
          ]
        }
      ]
    },
    {
      "cell_type": "code",
      "source": [
        "thislist = [\"apple\",\"mango\",\"banana\",\"kiiwi\",\"water melon\"]\n",
        "thislist.remove(\"apple\")\n",
        "print(thislist)"
      ],
      "metadata": {
        "colab": {
          "base_uri": "https://localhost:8080/"
        },
        "id": "q1ZC5a4ZSQLt",
        "outputId": "f6da2cc2-add3-48f6-8cf2-ea85070a11ca"
      },
      "execution_count": 38,
      "outputs": [
        {
          "output_type": "stream",
          "name": "stdout",
          "text": [
            "['mango', 'banana', 'kiiwi', 'water melon']\n"
          ]
        }
      ]
    },
    {
      "cell_type": "code",
      "source": [
        "thislist = [\"apple\",\"mango\",\"banana\",\"kiiwi\",\"water melon\"]\n",
        "thislist.pop(1)\n",
        "print(thislist)"
      ],
      "metadata": {
        "colab": {
          "base_uri": "https://localhost:8080/"
        },
        "id": "P04ryARmSuR1",
        "outputId": "47b6a66e-739c-497f-d84d-0b9cc94443ee"
      },
      "execution_count": 40,
      "outputs": [
        {
          "output_type": "stream",
          "name": "stdout",
          "text": [
            "['apple', 'banana', 'kiiwi', 'water melon']\n"
          ]
        }
      ]
    },
    {
      "cell_type": "code",
      "source": [
        "thislist = [\"apple\",\"mango\",\"banana\",\"kiiwi\",\"water melon\"]\n",
        "thislist.pop()\n",
        "print(thislist)"
      ],
      "metadata": {
        "colab": {
          "base_uri": "https://localhost:8080/"
        },
        "id": "8GJPD3IHTFsZ",
        "outputId": "698ade32-291d-4c2e-f36a-9e105eede78b"
      },
      "execution_count": 42,
      "outputs": [
        {
          "output_type": "stream",
          "name": "stdout",
          "text": [
            "['apple', 'mango', 'banana', 'kiiwi']\n"
          ]
        }
      ]
    },
    {
      "cell_type": "code",
      "source": [
        "thislist = [\"apple\",\"mango\",\"banana\",\"kiiwi\",\"water melon\"]\n",
        "del thislist[0]\n",
        "print(thislist)"
      ],
      "metadata": {
        "colab": {
          "base_uri": "https://localhost:8080/"
        },
        "id": "rRnqKbJfTd1_",
        "outputId": "13a54649-39a6-4dd3-ad8c-a1af567c7661"
      },
      "execution_count": 44,
      "outputs": [
        {
          "output_type": "stream",
          "name": "stdout",
          "text": [
            "['mango', 'banana', 'kiiwi', 'water melon']\n"
          ]
        }
      ]
    },
    {
      "cell_type": "code",
      "source": [
        "thislist = [\"apple\",\"mango\",\"banana\",\"kiiwi\",\"water melon\"]\n",
        "thislist.clear()\n",
        "print(thislist)"
      ],
      "metadata": {
        "colab": {
          "base_uri": "https://localhost:8080/"
        },
        "id": "qZZkClJsUWYY",
        "outputId": "2046c70b-c0d4-4f1f-c375-3da0d9f6b161"
      },
      "execution_count": 46,
      "outputs": [
        {
          "output_type": "stream",
          "name": "stdout",
          "text": [
            "[]\n"
          ]
        }
      ]
    },
    {
      "cell_type": "code",
      "source": [
        "thislist = [\"apple\",\"mango\",\"banana\",\"kiiwi\",\"water melon\"]\n",
        "mylist = thislist.copy()\n",
        "print(mylist)"
      ],
      "metadata": {
        "colab": {
          "base_uri": "https://localhost:8080/"
        },
        "id": "bv415mb-VBBY",
        "outputId": "43a58b32-5c85-4af2-f7c1-602d53160d15"
      },
      "execution_count": 48,
      "outputs": [
        {
          "output_type": "stream",
          "name": "stdout",
          "text": [
            "['apple', 'mango', 'banana', 'kiiwi', 'water melon']\n"
          ]
        }
      ]
    },
    {
      "cell_type": "code",
      "source": [
        "thislist = [\"apple\",\"mango\",\"banana\",\"kiiwi\",\"water melon\"]\n",
        "thislist =  list(thislist)\n",
        "print(mylist)"
      ],
      "metadata": {
        "colab": {
          "base_uri": "https://localhost:8080/"
        },
        "id": "fPUMpCnbYWun",
        "outputId": "8d135e0b-203a-4e38-8190-8e0811a37e4e"
      },
      "execution_count": 50,
      "outputs": [
        {
          "output_type": "stream",
          "name": "stdout",
          "text": [
            "['apple', 'mango', 'banana', 'kiiwi', 'water melon']\n"
          ]
        }
      ]
    },
    {
      "cell_type": "code",
      "source": [
        "thislist = [\"apple\",\"mango\",\"banana\",\"kiiwi\",\"water melon\"]\n",
        "thislist1 = [1,2,3]\n",
        "thislist2 = thislist + thislist1\n",
        "print(thislist2)"
      ],
      "metadata": {
        "colab": {
          "base_uri": "https://localhost:8080/"
        },
        "id": "eEd1vOpzY-Kt",
        "outputId": "acc2d1ed-5a14-4aa0-87b5-202e735682e1"
      },
      "execution_count": 52,
      "outputs": [
        {
          "output_type": "stream",
          "name": "stdout",
          "text": [
            "['apple', 'mango', 'banana', 'kiiwi', 'water melon', 1, 2, 3]\n"
          ]
        }
      ]
    },
    {
      "cell_type": "code",
      "source": [
        "thislist = [\"apple\",\"mango\",\"banana\",\"kiiwi\",\"water melon\"]\n",
        "thislist1 = [1,2,3]\n",
        "thislist.extend(thislist1)\n",
        "print(thislist)"
      ],
      "metadata": {
        "colab": {
          "base_uri": "https://localhost:8080/"
        },
        "id": "EyfUVyXDZYvB",
        "outputId": "1ab4bb63-c5f2-4aa2-c52f-71f696bdba9e"
      },
      "execution_count": 55,
      "outputs": [
        {
          "output_type": "stream",
          "name": "stdout",
          "text": [
            "['apple', 'mango', 'banana', 'kiiwi', 'water melon', 1, 2, 3]\n"
          ]
        }
      ]
    },
    {
      "cell_type": "code",
      "source": [
        "thislist = [\"apple\",\"mango\",\"banana\",\"kiiwi\",\"water melon\"]\n",
        "thislist.sort()\n",
        "print(thislist)"
      ],
      "metadata": {
        "colab": {
          "base_uri": "https://localhost:8080/"
        },
        "id": "fpLP90KBmZTf",
        "outputId": "7edc235e-10be-466f-82c6-9c947457e2b8"
      },
      "execution_count": 57,
      "outputs": [
        {
          "output_type": "stream",
          "name": "stdout",
          "text": [
            "['apple', 'banana', 'kiiwi', 'mango', 'water melon']\n"
          ]
        }
      ]
    },
    {
      "cell_type": "code",
      "source": [
        "thislist = [\"apple\",\"mango\",\"banana\",\"kiiwi\",\"water melon\"]\n",
        "thislist.remove(\"mango\")\n",
        "print(thislist)"
      ],
      "metadata": {
        "colab": {
          "base_uri": "https://localhost:8080/"
        },
        "id": "7kJUFWIYmuqd",
        "outputId": "707027ba-78f5-4141-bae9-525269b42f57"
      },
      "execution_count": 62,
      "outputs": [
        {
          "output_type": "stream",
          "name": "stdout",
          "text": [
            "['apple', 'banana', 'kiiwi', 'water melon']\n"
          ]
        }
      ]
    },
    {
      "cell_type": "code",
      "source": [
        "thislist = [\"100\",\"50\",\"65\",\"82\",\"23\"]\n",
        "thislist.sort()\n",
        "print(thislist)"
      ],
      "metadata": {
        "colab": {
          "base_uri": "https://localhost:8080/"
        },
        "id": "BdkOW-0BnHPY",
        "outputId": "c2ffad48-05c2-4d8e-9e76-1f9f0c7b71ce"
      },
      "execution_count": 67,
      "outputs": [
        {
          "output_type": "stream",
          "name": "stdout",
          "text": [
            "['100', '23', '50', '65', '82']\n"
          ]
        }
      ]
    },
    {
      "cell_type": "code",
      "source": [
        "thislist = [\"apple\",\"mango\",\"banana\",\"kiiwi\",\"water melon\"]\n",
        "thislist.reverse()\n",
        "print(thislist)"
      ],
      "metadata": {
        "colab": {
          "base_uri": "https://localhost:8080/"
        },
        "id": "GOIqXrZdoPnX",
        "outputId": "f27a0267-eac5-4eb7-ff6d-db2834eb4447"
      },
      "execution_count": 68,
      "outputs": [
        {
          "output_type": "stream",
          "name": "stdout",
          "text": [
            "['water melon', 'kiiwi', 'banana', 'mango', 'apple']\n"
          ]
        }
      ]
    },
    {
      "cell_type": "code",
      "source": [
        "thislist = [\"apple\",\"mango\",\"banana\",\"kiiwi\",\"water melon\"]\n",
        "for x in thislist :\n",
        " print(x)"
      ],
      "metadata": {
        "colab": {
          "base_uri": "https://localhost:8080/"
        },
        "id": "6q9Cl28upiJj",
        "outputId": "de8c520a-8b24-4221-9530-01cf9d7bb082"
      },
      "execution_count": 75,
      "outputs": [
        {
          "output_type": "stream",
          "name": "stdout",
          "text": [
            "apple\n",
            "mango\n",
            "banana\n",
            "kiiwi\n",
            "water melon\n"
          ]
        }
      ]
    },
    {
      "cell_type": "code",
      "source": [
        "thislist = [\"apple\",\"mango\",\"banana\",\"kiiwi\",\"water melon\"]\n",
        "for i in range(len(thislist)) :\n",
        "  print(thislist[i])"
      ],
      "metadata": {
        "colab": {
          "base_uri": "https://localhost:8080/"
        },
        "id": "1YwVRml8rkLO",
        "outputId": "25e12845-0a77-43a8-f378-b578354503e7"
      },
      "execution_count": 77,
      "outputs": [
        {
          "output_type": "stream",
          "name": "stdout",
          "text": [
            "apple\n",
            "mango\n",
            "banana\n",
            "kiiwi\n",
            "water melon\n"
          ]
        }
      ]
    },
    {
      "cell_type": "code",
      "source": [
        "#strings\n",
        "a = \"hello\"\n",
        "print(a)"
      ],
      "metadata": {
        "colab": {
          "base_uri": "https://localhost:8080/"
        },
        "id": "ZBm9qRLor9GP",
        "outputId": "72d0465d-7626-48cd-f960-ef1dfd91f8f8"
      },
      "execution_count": 80,
      "outputs": [
        {
          "output_type": "stream",
          "name": "stdout",
          "text": [
            "hello\n"
          ]
        }
      ]
    },
    {
      "cell_type": "code",
      "source": [
        "a = \"hello,world\"\n",
        "print(a[1])"
      ],
      "metadata": {
        "colab": {
          "base_uri": "https://localhost:8080/"
        },
        "id": "VYnJqqCxxMSL",
        "outputId": "dbbb9819-baea-4494-c4a2-a3d97831fc61"
      },
      "execution_count": 82,
      "outputs": [
        {
          "output_type": "stream",
          "name": "stdout",
          "text": [
            "e\n"
          ]
        }
      ]
    },
    {
      "cell_type": "code",
      "source": [
        ""
      ],
      "metadata": {
        "id": "Q0d7dJV-ynOH"
      },
      "execution_count": null,
      "outputs": []
    },
    {
      "cell_type": "code",
      "source": [
        "for x in \"banana\":\n",
        "  print(x)"
      ],
      "metadata": {
        "colab": {
          "base_uri": "https://localhost:8080/"
        },
        "id": "tW-WPQppxWuz",
        "outputId": "40349105-2470-4b2e-f2e6-93886a0db605"
      },
      "execution_count": 85,
      "outputs": [
        {
          "output_type": "stream",
          "name": "stdout",
          "text": [
            "b\n",
            "a\n",
            "n\n",
            "a\n",
            "n\n",
            "a\n"
          ]
        }
      ]
    },
    {
      "cell_type": "code",
      "source": [
        "a = \"hello,world\"\n",
        "print(len(a))"
      ],
      "metadata": {
        "colab": {
          "base_uri": "https://localhost:8080/"
        },
        "id": "Kku_oVZeyK28",
        "outputId": "b86e18c2-2da6-4d7a-c55c-5d47a08e3dc6"
      },
      "execution_count": 88,
      "outputs": [
        {
          "output_type": "stream",
          "name": "stdout",
          "text": [
            "11\n"
          ]
        }
      ]
    },
    {
      "cell_type": "code",
      "source": [
        "a = \"RRR movie has been released\"\n",
        "print(\"rrr\"in a)"
      ],
      "metadata": {
        "colab": {
          "base_uri": "https://localhost:8080/"
        },
        "id": "VcO2oIGUybnf",
        "outputId": "848a065e-d071-4569-f5f7-091635c187c9"
      },
      "execution_count": 92,
      "outputs": [
        {
          "output_type": "stream",
          "name": "stdout",
          "text": [
            "False\n"
          ]
        }
      ]
    },
    {
      "cell_type": "code",
      "source": [
        "tex =  \"SRH won the ipl final in 2016\"\n",
        "print(\"SRH\"in tex)"
      ],
      "metadata": {
        "colab": {
          "base_uri": "https://localhost:8080/"
        },
        "id": "DDOvY7u5zEpp",
        "outputId": "7609d417-e0d5-4a9d-f0df-07fab0d2a67a"
      },
      "execution_count": 94,
      "outputs": [
        {
          "output_type": "stream",
          "name": "stdout",
          "text": [
            "True\n"
          ]
        }
      ]
    },
    {
      "cell_type": "code",
      "source": [
        "tex = \"SRH won the ipl final in 2016\"\n",
        "print(\"srh\"in tex)"
      ],
      "metadata": {
        "colab": {
          "base_uri": "https://localhost:8080/"
        },
        "id": "fpZQu0EDzkl4",
        "outputId": "9f5990f6-98ae-4343-de6c-87dfb33b4740"
      },
      "execution_count": 96,
      "outputs": [
        {
          "output_type": "stream",
          "name": "stdout",
          "text": [
            "False\n"
          ]
        }
      ]
    },
    {
      "cell_type": "code",
      "source": [
        "tex = \"SRH won the ipl final in 2016\"\n",
        "if \"SRH\" in tex :\n",
        "  print(\"yes,SRH in tex\")"
      ],
      "metadata": {
        "colab": {
          "base_uri": "https://localhost:8080/"
        },
        "id": "TSeHxsmUz2dk",
        "outputId": "a8501f35-d76c-4291-fb8a-06e14e3c7609"
      },
      "execution_count": 98,
      "outputs": [
        {
          "output_type": "stream",
          "name": "stdout",
          "text": [
            "yes,SRH in tex\n"
          ]
        }
      ]
    },
    {
      "cell_type": "code",
      "source": [
        "tex = \"SRH won the ipl final in 2016\"\n",
        "print(\"SRH\" not in tex)"
      ],
      "metadata": {
        "colab": {
          "base_uri": "https://localhost:8080/"
        },
        "id": "sG9O4cJB0eyA",
        "outputId": "d2afc7a6-21be-4d98-e46c-0c81f71630b7"
      },
      "execution_count": 100,
      "outputs": [
        {
          "output_type": "stream",
          "name": "stdout",
          "text": [
            "False\n"
          ]
        }
      ]
    },
    {
      "cell_type": "code",
      "source": [
        "txt = \"The best things in life are free!\"\n",
        "if \"expensive\" not in txt:\n",
        "  print(\"No, 'expensive' is NOT present.\")"
      ],
      "metadata": {
        "colab": {
          "base_uri": "https://localhost:8080/"
        },
        "id": "q97cbldp0reB",
        "outputId": "d1635fb9-8122-42d9-fe39-3b600960a7dd"
      },
      "execution_count": 108,
      "outputs": [
        {
          "output_type": "stream",
          "name": "stdout",
          "text": [
            "No, 'expensive' is NOT present.\n"
          ]
        }
      ]
    },
    {
      "cell_type": "code",
      "source": [
        "a = \"hello,world\"\n",
        "print(a[2:5])"
      ],
      "metadata": {
        "colab": {
          "base_uri": "https://localhost:8080/"
        },
        "id": "buy6MjpP23ix",
        "outputId": "62e49b56-36ed-4e1d-f1e1-3324a2c593f2"
      },
      "execution_count": 110,
      "outputs": [
        {
          "output_type": "stream",
          "name": "stdout",
          "text": [
            "llo\n"
          ]
        }
      ]
    },
    {
      "cell_type": "code",
      "source": [
        "a = \"hello,world\"\n",
        "print(a[:2])"
      ],
      "metadata": {
        "colab": {
          "base_uri": "https://localhost:8080/"
        },
        "id": "72BbtLGj3dne",
        "outputId": "8de68bf8-37f7-4e83-8b03-dc6577f6b722"
      },
      "execution_count": 112,
      "outputs": [
        {
          "output_type": "stream",
          "name": "stdout",
          "text": [
            "he\n"
          ]
        }
      ]
    },
    {
      "cell_type": "code",
      "source": [
        "a = \"hello,world\"\n",
        "print(a[5:])"
      ],
      "metadata": {
        "colab": {
          "base_uri": "https://localhost:8080/"
        },
        "id": "1GcPN0Gs3o5Z",
        "outputId": "0e8e4b5d-e7b4-4ca7-e706-41c4e0b87ca4"
      },
      "execution_count": 114,
      "outputs": [
        {
          "output_type": "stream",
          "name": "stdout",
          "text": [
            ",world\n"
          ]
        }
      ]
    },
    {
      "cell_type": "code",
      "source": [
        "a = \"hello,world\"\n",
        "print(a[-5:-1])"
      ],
      "metadata": {
        "colab": {
          "base_uri": "https://localhost:8080/"
        },
        "id": "zgqEkFof3yxb",
        "outputId": "72f8763d-9887-44d9-ed14-21b657654e37"
      },
      "execution_count": 116,
      "outputs": [
        {
          "output_type": "stream",
          "name": "stdout",
          "text": [
            "worl\n"
          ]
        }
      ]
    },
    {
      "cell_type": "code",
      "source": [
        "a = \"luknow super giants need 133 runs in 73 balls\"\n",
        "print(a.upper())"
      ],
      "metadata": {
        "colab": {
          "base_uri": "https://localhost:8080/"
        },
        "id": "cx2fKpsi4KAd",
        "outputId": "e71df9cd-8265-4a1c-9395-ceb7ddc4a7f8"
      },
      "execution_count": 118,
      "outputs": [
        {
          "output_type": "stream",
          "name": "stdout",
          "text": [
            "LUKNOW SUPER GIANTS NEED 133 RUNS IN 73 BALLS\n"
          ]
        }
      ]
    },
    {
      "cell_type": "code",
      "source": [
        "a = \"luknow super giants need 133 runs in 73 balls\"\n",
        "print(a.lower())"
      ],
      "metadata": {
        "colab": {
          "base_uri": "https://localhost:8080/"
        },
        "id": "QCRq8pbu462V",
        "outputId": "b78a24db-59bc-4125-ebc6-29e7ce0cf0f5"
      },
      "execution_count": 120,
      "outputs": [
        {
          "output_type": "stream",
          "name": "stdout",
          "text": [
            "luknow super giants need 133 runs in 73 balls\n"
          ]
        }
      ]
    },
    {
      "cell_type": "code",
      "source": [
        "a = \"luknow super giants need 133 runs in 73 balls\"\n",
        "print(a.strip())"
      ],
      "metadata": {
        "colab": {
          "base_uri": "https://localhost:8080/"
        },
        "id": "dQ0i6_K95R4-",
        "outputId": "5873da92-15fd-4b2a-8fbe-cd04b4450559"
      },
      "execution_count": 122,
      "outputs": [
        {
          "output_type": "stream",
          "name": "stdout",
          "text": [
            "luknow super giants need 133 runs in 73 balls\n"
          ]
        }
      ]
    },
    {
      "cell_type": "code",
      "source": [
        "a = \"luknow super giants need 133 runs in 73 balls\"\n",
        "print(a.replace(\"l\",\"y\"))"
      ],
      "metadata": {
        "colab": {
          "base_uri": "https://localhost:8080/"
        },
        "id": "bSCYuFew5dP7",
        "outputId": "df3a7a98-349f-4160-f327-bfc7d2085a60"
      },
      "execution_count": 124,
      "outputs": [
        {
          "output_type": "stream",
          "name": "stdout",
          "text": [
            "yuknow super giants need 133 runs in 73 bayys\n"
          ]
        }
      ]
    },
    {
      "cell_type": "code",
      "source": [
        "a = \"luknow super giants need 133 runs in 73 balls\"\n",
        "print(a.split(\",\"))"
      ],
      "metadata": {
        "colab": {
          "base_uri": "https://localhost:8080/"
        },
        "id": "nx40ELyH5q57",
        "outputId": "daa0e29c-bc33-458a-fc60-34abf08a4712"
      },
      "execution_count": 126,
      "outputs": [
        {
          "output_type": "stream",
          "name": "stdout",
          "text": [
            "['luknow super giants need 133 runs in 73 balls']\n"
          ]
        }
      ]
    },
    {
      "cell_type": "code",
      "source": [
        "a = \"luknow super giants need 133 runs in 73 balls\"\n",
        "b = \"chenni won by 10 runs\"\n",
        "c = a + b\n",
        "print(c)"
      ],
      "metadata": {
        "colab": {
          "base_uri": "https://localhost:8080/"
        },
        "id": "nTw6WIph5-aq",
        "outputId": "f4dd9aa4-5812-4822-dabf-5f543cfdf234"
      },
      "execution_count": 128,
      "outputs": [
        {
          "output_type": "stream",
          "name": "stdout",
          "text": [
            "luknow super giants need 133 runs in 73 ballschenni won by 10 runs\n"
          ]
        }
      ]
    },
    {
      "cell_type": "code",
      "source": [
        "a = \"luknow super giants need 133 runs in 73 balls\"\n",
        "b = \"chenni won by 10 runs\"\n",
        "c = a + \" \" + b\n",
        "print(c)"
      ],
      "metadata": {
        "colab": {
          "base_uri": "https://localhost:8080/"
        },
        "id": "oMGCpQY56rzI",
        "outputId": "f07f59a1-4f78-4c2d-9044-57a324ba454b"
      },
      "execution_count": 130,
      "outputs": [
        {
          "output_type": "stream",
          "name": "stdout",
          "text": [
            "luknow super giants need 133 runs in 73 balls chenni won by 10 runs\n"
          ]
        }
      ]
    },
    {
      "cell_type": "code",
      "source": [
        "age = 19\n",
        "tex = \"my name is KOLLA VARSH , i am {} years old\"\n",
        "print(tex.format(age))\n"
      ],
      "metadata": {
        "colab": {
          "base_uri": "https://localhost:8080/"
        },
        "id": "NY8eOxwf6_ZX",
        "outputId": "86278b43-2f8f-4939-87dc-32192f49cdfb"
      },
      "execution_count": 133,
      "outputs": [
        {
          "output_type": "stream",
          "name": "stdout",
          "text": [
            "my name is KOLLA VARSH , i am 19 years old\n"
          ]
        }
      ]
    },
    {
      "cell_type": "code",
      "source": [
        "quantity = 3\n",
        "itemno = 734\n",
        "price = 599.00\n",
        "myorder = \"i want {} piece of item {} for {} doller.\"\n",
        "print(myorder.format(quantity,itemno,price))"
      ],
      "metadata": {
        "colab": {
          "base_uri": "https://localhost:8080/"
        },
        "id": "Jy7kOCBT86PO",
        "outputId": "45db020c-24c5-42b5-c696-67a717a4821e"
      },
      "execution_count": 136,
      "outputs": [
        {
          "output_type": "stream",
          "name": "stdout",
          "text": [
            "i want 3 piece of item 734 for 599.0 doller.\n"
          ]
        }
      ]
    },
    {
      "cell_type": "code",
      "source": [
        "quantity = 3\n",
        "item = 8743\n",
        "price = 6999\n",
        "myorder = \"i want to pay {2} doller for {0} pieces of item {1}\"\n",
        "print(myorder.format(quantity,itemno,price))"
      ],
      "metadata": {
        "colab": {
          "base_uri": "https://localhost:8080/"
        },
        "id": "yrVlkhrN-4CX",
        "outputId": "b3df6333-e7e1-492b-cbc3-3397e02427fe"
      },
      "execution_count": 138,
      "outputs": [
        {
          "output_type": "stream",
          "name": "stdout",
          "text": [
            "i want to pay 6999 doller for 3 pieces of item 734\n"
          ]
        }
      ]
    },
    {
      "cell_type": "code",
      "source": [
        "tex = \"we are so called \\\"vikings\\\" form the north\"\n",
        "print(tex)"
      ],
      "metadata": {
        "colab": {
          "base_uri": "https://localhost:8080/"
        },
        "id": "hJS13an6AN6z",
        "outputId": "a4c70612-f741-443b-c685-050c999a282b"
      },
      "execution_count": 140,
      "outputs": [
        {
          "output_type": "stream",
          "name": "stdout",
          "text": [
            "we are so called \"vikings\" form the north\n"
          ]
        }
      ]
    },
    {
      "cell_type": "code",
      "source": [
        "a = \"luknow\\'s super giants need 133 runs in 73 balls\"\n",
        "print(a)"
      ],
      "metadata": {
        "colab": {
          "base_uri": "https://localhost:8080/"
        },
        "id": "eo1Fmw9FAzFP",
        "outputId": "0cf47adc-0c14-496f-800d-60ebabcb0d75"
      },
      "execution_count": 143,
      "outputs": [
        {
          "output_type": "stream",
          "name": "stdout",
          "text": [
            "luknow's super giants need 133 runs in 73 balls\n"
          ]
        }
      ]
    },
    {
      "cell_type": "code",
      "source": [
        "a = \"luknow super giants need \\n 133 runs in 73 balls\"\n",
        "print(a)"
      ],
      "metadata": {
        "colab": {
          "base_uri": "https://localhost:8080/"
        },
        "id": "RCt8NDcLBkTZ",
        "outputId": "f846c51f-dd27-4ccc-b7fd-7e33af06f309"
      },
      "execution_count": 145,
      "outputs": [
        {
          "output_type": "stream",
          "name": "stdout",
          "text": [
            "luknow super giants need \n",
            " 133 runs in 73 balls\n"
          ]
        }
      ]
    },
    {
      "cell_type": "code",
      "source": [
        "a = \"luknow super giants need 133 runs in \\r 73 balls\"\n",
        "print(a)\n"
      ],
      "metadata": {
        "colab": {
          "base_uri": "https://localhost:8080/"
        },
        "id": "XyrclOJWBsYw",
        "outputId": "d1e1dd04-80ba-4db1-961b-8c25c80b5058"
      },
      "execution_count": 148,
      "outputs": [
        {
          "output_type": "stream",
          "name": "stdout",
          "text": [
            "luknow super giants need 133 runs in \r 73 balls\n"
          ]
        }
      ]
    },
    {
      "cell_type": "code",
      "source": [
        "a = \"luknow super giants need \\\\ 133 runs in 73 balls\"\n",
        "print(a)"
      ],
      "metadata": {
        "colab": {
          "base_uri": "https://localhost:8080/"
        },
        "id": "a8cLx0H9CB4I",
        "outputId": "b81ea260-4114-463c-d065-3fcc6ae10193"
      },
      "execution_count": 150,
      "outputs": [
        {
          "output_type": "stream",
          "name": "stdout",
          "text": [
            "luknow super giants need \\ 133 runs in 73 balls\n"
          ]
        }
      ]
    },
    {
      "cell_type": "code",
      "source": [
        "a = \"luknow super giants need \\b133 runs in 73 balls\"\n",
        "print(a)"
      ],
      "metadata": {
        "colab": {
          "base_uri": "https://localhost:8080/"
        },
        "id": "JeAq5P8CCTms",
        "outputId": "cd669704-a3fa-435e-d151-2fb894673bf1"
      },
      "execution_count": 153,
      "outputs": [
        {
          "output_type": "stream",
          "name": "stdout",
          "text": [
            "luknow super giants need \b133 runs in 73 balls\n"
          ]
        }
      ]
    },
    {
      "cell_type": "code",
      "source": [
        "a = \"\\110\\145\\154\\154\\157\"\n",
        "print(a)"
      ],
      "metadata": {
        "colab": {
          "base_uri": "https://localhost:8080/"
        },
        "id": "6R7Q7CbuCeGx",
        "outputId": "284f9142-00c2-42a6-f075-a02cb7c31066"
      },
      "execution_count": 156,
      "outputs": [
        {
          "output_type": "stream",
          "name": "stdout",
          "text": [
            "Hello\n"
          ]
        }
      ]
    },
    {
      "cell_type": "code",
      "source": [
        "a = \"luknow super giants need 133 runs in 73 balls\"\n",
        "x = a.capitalize()\n",
        "print(x)"
      ],
      "metadata": {
        "colab": {
          "base_uri": "https://localhost:8080/"
        },
        "id": "0vbsYAtuELHG",
        "outputId": "faec9824-1f70-42d3-8c51-c4524b896258"
      },
      "execution_count": 160,
      "outputs": [
        {
          "output_type": "stream",
          "name": "stdout",
          "text": [
            "Luknow super giants need 133 runs in 73 balls\n"
          ]
        }
      ]
    },
    {
      "cell_type": "code",
      "source": [
        "a = \"Luknow super giants need 133 runs in 73 balls\"\n",
        "x =  a.casefold()\n",
        "print(x)"
      ],
      "metadata": {
        "colab": {
          "base_uri": "https://localhost:8080/"
        },
        "id": "gtYWDyItEoOJ",
        "outputId": "5929dc55-7a28-4e4d-c06c-36c37cca86f6"
      },
      "execution_count": 163,
      "outputs": [
        {
          "output_type": "stream",
          "name": "stdout",
          "text": [
            "luknow super giants need 133 runs in 73 balls\n"
          ]
        }
      ]
    },
    {
      "cell_type": "code",
      "source": [
        "a = \"banana\"\n",
        "x = a.center(20)\n",
        "print(x)"
      ],
      "metadata": {
        "colab": {
          "base_uri": "https://localhost:8080/"
        },
        "id": "t_i5TCZXFHVV",
        "outputId": "80c67195-b27f-40bc-ad43-70b3ea5f9aaa"
      },
      "execution_count": 5,
      "outputs": [
        {
          "output_type": "stream",
          "name": "stdout",
          "text": [
            "       banana       \n"
          ]
        }
      ]
    },
    {
      "cell_type": "code",
      "source": [
        "a = \"luknow super giants need 133 runs in 73 balls\"\n",
        "x = a.count(\"super\")\n",
        "print(x)"
      ],
      "metadata": {
        "colab": {
          "base_uri": "https://localhost:8080/"
        },
        "id": "zXtZi_xWFr1g",
        "outputId": "b52394e6-25c0-462e-a0a8-ba753a719378"
      },
      "execution_count": 7,
      "outputs": [
        {
          "output_type": "stream",
          "name": "stdout",
          "text": [
            "1\n"
          ]
        }
      ]
    }
  ]
}