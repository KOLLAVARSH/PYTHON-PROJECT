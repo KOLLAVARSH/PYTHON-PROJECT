{
  "nbformat": 4,
  "nbformat_minor": 0,
  "metadata": {
    "colab": {
      "name": "Untitled12.ipynb",
      "provenance": [],
      "collapsed_sections": [],
      "authorship_tag": "ABX9TyO2tC4igOMAAsDTBd2KY3i+",
      "include_colab_link": true
    },
    "kernelspec": {
      "name": "python3",
      "display_name": "Python 3"
    },
    "language_info": {
      "name": "python"
    }
  },
  "cells": [
    {
      "cell_type": "markdown",
      "metadata": {
        "id": "view-in-github",
        "colab_type": "text"
      },
      "source": [
        "<a href=\"https://colab.research.google.com/github/KOLLAVARSH/PYTHON-PROJECT/blob/main/Untitled12.ipynb\" target=\"_parent\"><img src=\"https://colab.research.google.com/assets/colab-badge.svg\" alt=\"Open In Colab\"/></a>"
      ]
    },
    {
      "cell_type": "code",
      "execution_count": null,
      "metadata": {
        "id": "y0xh1ifkZddY",
        "colab": {
          "base_uri": "https://localhost:8080/"
        },
        "outputId": "06691bc3-980f-4534-9dea-a5c9b44dced6"
      },
      "outputs": [
        {
          "output_type": "stream",
          "name": "stdout",
          "text": [
            "o\n"
          ]
        }
      ],
      "source": [
        "a = \"kolla varsh\"\n",
        "print(a[1])"
      ]
    },
    {
      "cell_type": "code",
      "source": [
        "for x in \"kolla\" :\n",
        "  print(x)"
      ],
      "metadata": {
        "colab": {
          "base_uri": "https://localhost:8080/"
        },
        "id": "Jx3RAum2drzi",
        "outputId": "44d6a6d4-bbc1-432f-f2e6-2e3219da183a"
      },
      "execution_count": null,
      "outputs": [
        {
          "output_type": "stream",
          "name": "stdout",
          "text": [
            "k\n",
            "o\n",
            "l\n",
            "l\n",
            "a\n"
          ]
        }
      ]
    },
    {
      "cell_type": "code",
      "source": [
        "a = \"kolla varsh\"\n",
        "print(len(a))"
      ],
      "metadata": {
        "colab": {
          "base_uri": "https://localhost:8080/"
        },
        "id": "Ec40saCDd-ot",
        "outputId": "912dd433-3a11-4390-be77-e173586a35b7"
      },
      "execution_count": null,
      "outputs": [
        {
          "output_type": "stream",
          "name": "stdout",
          "text": [
            "11\n"
          ]
        }
      ]
    },
    {
      "cell_type": "code",
      "source": [
        "a = \"kolla varsh\"\n",
        "print(\"kolla\" in a)"
      ],
      "metadata": {
        "colab": {
          "base_uri": "https://localhost:8080/"
        },
        "id": "f92PZ43CeNG7",
        "outputId": "a5f2c987-b295-4a3b-a3c4-b1716e46f92d"
      },
      "execution_count": null,
      "outputs": [
        {
          "output_type": "stream",
          "name": "stdout",
          "text": [
            "True\n"
          ]
        }
      ]
    },
    {
      "cell_type": "code",
      "source": [
        "a = \"kolla varsh\"\n",
        "if \"kolla\" in a :\n",
        "   print(\"yes,'kolla'is present.\")"
      ],
      "metadata": {
        "colab": {
          "base_uri": "https://localhost:8080/"
        },
        "id": "_43uFdqref5e",
        "outputId": "37bac284-e9ac-4ee3-e795-505f78ddc182"
      },
      "execution_count": null,
      "outputs": [
        {
          "output_type": "stream",
          "name": "stdout",
          "text": [
            "yes,'kolla'is present.\n"
          ]
        }
      ]
    },
    {
      "cell_type": "code",
      "source": [
        "a = \"kolla varsh\"\n",
        "print(a.lower())"
      ],
      "metadata": {
        "colab": {
          "base_uri": "https://localhost:8080/"
        },
        "id": "VSV-WykbfgQ6",
        "outputId": "8118ba6b-77be-4cf1-a626-058f6f4c1733"
      },
      "execution_count": null,
      "outputs": [
        {
          "output_type": "stream",
          "name": "stdout",
          "text": [
            "kolla varsh\n"
          ]
        }
      ]
    },
    {
      "cell_type": "code",
      "source": [
        "a = \"kolla varsh\"\n",
        "print(a.upper())"
      ],
      "metadata": {
        "colab": {
          "base_uri": "https://localhost:8080/"
        },
        "id": "rgne52Crfny1",
        "outputId": "33bde9c0-2a50-455f-eb93-fdc94d7370b9"
      },
      "execution_count": null,
      "outputs": [
        {
          "output_type": "stream",
          "name": "stdout",
          "text": [
            "KOLLA VARSH\n"
          ]
        }
      ]
    },
    {
      "cell_type": "code",
      "source": [
        "a = \"      kolla varsh\"\n",
        "print(a.strip())"
      ],
      "metadata": {
        "colab": {
          "base_uri": "https://localhost:8080/"
        },
        "id": "UwQTwsKRfzYM",
        "outputId": "8f701cab-fd2f-40ee-9b86-5f0ffb91d35b"
      },
      "execution_count": null,
      "outputs": [
        {
          "output_type": "stream",
          "name": "stdout",
          "text": [
            "kolla varsh\n"
          ]
        }
      ]
    },
    {
      "cell_type": "code",
      "source": [
        "a = \"golla varsh\"\n",
        "print(a.replace(\"g\",\"k\"))"
      ],
      "metadata": {
        "colab": {
          "base_uri": "https://localhost:8080/"
        },
        "id": "GxFRdrs4f-G0",
        "outputId": "b163935c-395b-4b7f-cf0c-0b2d947b3310"
      },
      "execution_count": null,
      "outputs": [
        {
          "output_type": "stream",
          "name": "stdout",
          "text": [
            "kolla varsh\n"
          ]
        }
      ]
    },
    {
      "cell_type": "code",
      "source": [
        "a = \"kolla varsh\"\n",
        "print(a.split(\" , \"))"
      ],
      "metadata": {
        "colab": {
          "base_uri": "https://localhost:8080/"
        },
        "id": "b_E5xAwzggF4",
        "outputId": "86551f26-0c41-4d08-9823-3ff05b8e13cf"
      },
      "execution_count": null,
      "outputs": [
        {
          "output_type": "stream",
          "name": "stdout",
          "text": [
            "['kolla varsh']\n"
          ]
        }
      ]
    },
    {
      "cell_type": "code",
      "source": [
        "a = \"kolla\"\n",
        "b = \"varsh\"\n",
        "c = a +\" \" + b\n",
        "print(c)"
      ],
      "metadata": {
        "colab": {
          "base_uri": "https://localhost:8080/"
        },
        "id": "0kMmwK73gu6i",
        "outputId": "a414410f-7c49-4903-ece4-255c14d027ae"
      },
      "execution_count": null,
      "outputs": [
        {
          "output_type": "stream",
          "name": "stdout",
          "text": [
            "kolla varsh\n"
          ]
        }
      ]
    },
    {
      "cell_type": "code",
      "source": [
        "a = 19\n",
        "tex = \"i am {} years old\"\n",
        "print(tex.format(a))"
      ],
      "metadata": {
        "colab": {
          "base_uri": "https://localhost:8080/"
        },
        "id": "BJfWZDjqhDvt",
        "outputId": "cbd97ecc-22db-47da-ba24-5e6c0bd6fa13"
      },
      "execution_count": null,
      "outputs": [
        {
          "output_type": "stream",
          "name": "stdout",
          "text": [
            "i am 19 years old\n"
          ]
        }
      ]
    },
    {
      "cell_type": "code",
      "source": [
        "a = 2016\n",
        "tex = \"shr won the cup in {}\"\n",
        "print(tex.format(a))"
      ],
      "metadata": {
        "colab": {
          "base_uri": "https://localhost:8080/"
        },
        "id": "uk-U3TKXhfvl",
        "outputId": "768758d1-73df-405e-d14a-3c15a6233526"
      },
      "execution_count": null,
      "outputs": [
        {
          "output_type": "stream",
          "name": "stdout",
          "text": [
            "shr won the cup in 2016\n"
          ]
        }
      ]
    },
    {
      "cell_type": "code",
      "source": [
        "a = \"Kolla varsh\"\n",
        "print(a.casefold())"
      ],
      "metadata": {
        "colab": {
          "base_uri": "https://localhost:8080/"
        },
        "id": "TBotnq_Fi-53",
        "outputId": "a37f5741-5cd0-41f8-a8d8-a61be19a2cac"
      },
      "execution_count": null,
      "outputs": [
        {
          "output_type": "stream",
          "name": "stdout",
          "text": [
            "kolla varsh\n"
          ]
        }
      ]
    },
    {
      "cell_type": "code",
      "source": [
        "a = \"kolla varsh\"\n",
        "print(a.center(20))"
      ],
      "metadata": {
        "colab": {
          "base_uri": "https://localhost:8080/"
        },
        "id": "LMT1u4xDjXJl",
        "outputId": "bc758783-4db6-4b8b-a46b-cc6eca128c5a"
      },
      "execution_count": null,
      "outputs": [
        {
          "output_type": "stream",
          "name": "stdout",
          "text": [
            "    kolla varsh     \n"
          ]
        }
      ]
    },
    {
      "cell_type": "code",
      "source": [
        "a = 230\n",
        "b = 450\n",
        "if b > a :\n",
        "   print(\"b is greater than a\")\n",
        "else :\n",
        "   print(\"b is smaller than a\")"
      ],
      "metadata": {
        "colab": {
          "base_uri": "https://localhost:8080/"
        },
        "id": "LEG3_4_rlFjc",
        "outputId": "9cf1029c-6165-480f-d59f-877e759a6408"
      },
      "execution_count": null,
      "outputs": [
        {
          "output_type": "stream",
          "name": "stdout",
          "text": [
            "b is greater than a\n"
          ]
        }
      ]
    },
    {
      "cell_type": "code",
      "source": [
        "a = \"kolla varsh\"\n",
        "print(a.capitalize())"
      ],
      "metadata": {
        "colab": {
          "base_uri": "https://localhost:8080/"
        },
        "id": "unvnmlvqiWeX",
        "outputId": "d7a80a05-f515-4d8d-f5b9-f183e225a3ef"
      },
      "execution_count": null,
      "outputs": [
        {
          "output_type": "stream",
          "name": "stdout",
          "text": [
            "Kolla varsh\n"
          ]
        }
      ]
    },
    {
      "cell_type": "code",
      "source": [
        "list1 = [\"srh\" ,\"kkr\" , \"dc\"]\n",
        "print(list1[2])"
      ],
      "metadata": {
        "colab": {
          "base_uri": "https://localhost:8080/"
        },
        "id": "CoBJ-Z8Ip2Mr",
        "outputId": "b181fc51-bdae-4ec8-99bf-11a5ba442773"
      },
      "execution_count": null,
      "outputs": [
        {
          "output_type": "stream",
          "name": "stdout",
          "text": [
            "dc\n"
          ]
        }
      ]
    },
    {
      "cell_type": "code",
      "source": [
        "list1 = [\"srh\" , \"kkr\" , \"dc\"]\n",
        "if \"srh\" in list1 :\n",
        "  print(\"yes,'srh' is in list1\")"
      ],
      "metadata": {
        "colab": {
          "base_uri": "https://localhost:8080/"
        },
        "id": "NknT7KzZss4T",
        "outputId": "0962520f-298a-44df-8e4d-3c3a3e1dc4ae"
      },
      "execution_count": null,
      "outputs": [
        {
          "output_type": "stream",
          "name": "stdout",
          "text": [
            "yes,'srh' is in list1\n"
          ]
        }
      ]
    },
    {
      "cell_type": "code",
      "source": [
        "list = [\"srh\" , \"kkr\" , \"dc\"]\n",
        "list[2] = \"gt\"\n",
        "list[1] = \"rr\"\n",
        "list[0] = \"lsg\"\n",
        "print(list)"
      ],
      "metadata": {
        "colab": {
          "base_uri": "https://localhost:8080/"
        },
        "id": "uClTEPkStMG2",
        "outputId": "7a3d9e82-408c-4ff1-d79b-49a3840dcd16"
      },
      "execution_count": null,
      "outputs": [
        {
          "output_type": "stream",
          "name": "stdout",
          "text": [
            "['lsg', 'rr', 'gt']\n"
          ]
        }
      ]
    },
    {
      "cell_type": "code",
      "source": [
        "list = [\"shr\" , \"kkr\" , \"dc\"]\n",
        "list.insert(2,\"gt\")\n",
        "print(list)"
      ],
      "metadata": {
        "colab": {
          "base_uri": "https://localhost:8080/"
        },
        "id": "aiFL_t6gtk-A",
        "outputId": "a7f1cae1-b8f6-4f9e-b966-39e51521f3b9"
      },
      "execution_count": null,
      "outputs": [
        {
          "output_type": "stream",
          "name": "stdout",
          "text": [
            "['shr', 'kkr', 'gt', 'dc']\n"
          ]
        }
      ]
    },
    {
      "cell_type": "code",
      "source": [
        "list = [\"srh\" , \"kkr\" , \"dc\"]\n",
        "list.append(\"gt\")\n",
        "print(list)"
      ],
      "metadata": {
        "colab": {
          "base_uri": "https://localhost:8080/"
        },
        "id": "cijA2o4a19A9",
        "outputId": "8fe6a28f-338a-49e0-fac2-08197065d524"
      },
      "execution_count": null,
      "outputs": [
        {
          "output_type": "stream",
          "name": "stdout",
          "text": [
            "['srh', 'kkr', 'dc', 'gt']\n"
          ]
        }
      ]
    },
    {
      "cell_type": "code",
      "source": [
        "list = [\"srh\" , \"kkr\" , \"dc\"]\n",
        "list.pop()\n",
        "print(list)"
      ],
      "metadata": {
        "colab": {
          "base_uri": "https://localhost:8080/"
        },
        "id": "L2Wmlnr32qvT",
        "outputId": "f8ba8a26-8685-4d50-b2c0-a1b05b29185e"
      },
      "execution_count": null,
      "outputs": [
        {
          "output_type": "stream",
          "name": "stdout",
          "text": [
            "['srh', 'kkr']\n"
          ]
        }
      ]
    },
    {
      "cell_type": "code",
      "source": [
        "list = [\"srh\" , \"kkr\" , \"dc\"]\n",
        "list.clear()\n",
        "print(list)"
      ],
      "metadata": {
        "colab": {
          "base_uri": "https://localhost:8080/"
        },
        "id": "cN3t-M4R4L7s",
        "outputId": "3ec776e6-6e6a-4857-9ec8-f3da335f1377"
      },
      "execution_count": null,
      "outputs": [
        {
          "output_type": "stream",
          "name": "stdout",
          "text": [
            "[]\n"
          ]
        }
      ]
    },
    {
      "cell_type": "code",
      "source": [
        "list = [\"srh\" , \"kkr\" , \"dc\"]\n",
        "for x in list :\n",
        "  print(x)"
      ],
      "metadata": {
        "colab": {
          "base_uri": "https://localhost:8080/"
        },
        "id": "m4vFPqB54oLx",
        "outputId": "bbf6628c-6b2a-4568-e0b9-f06a847d8b98"
      },
      "execution_count": null,
      "outputs": [
        {
          "output_type": "stream",
          "name": "stdout",
          "text": [
            "srh\n",
            "kkr\n",
            "dc\n"
          ]
        }
      ]
    },
    {
      "cell_type": "code",
      "source": [
        "list = [\"srh\" , \"kkr\" , \"dc\"]\n",
        "for i in range(len(list)) :\n",
        "  print(list[i])"
      ],
      "metadata": {
        "colab": {
          "base_uri": "https://localhost:8080/"
        },
        "id": "7_EFly_m4xd3",
        "outputId": "821c38a0-5e36-42b2-e5ed-943c1f729233"
      },
      "execution_count": null,
      "outputs": [
        {
          "output_type": "stream",
          "name": "stdout",
          "text": [
            "srh\n",
            "kkr\n",
            "dc\n"
          ]
        }
      ]
    },
    {
      "cell_type": "code",
      "source": [
        "list = [\"srh\" , \"kkr\" , \"dc\"]\n",
        "list.sort(reverse = True)\n",
        "print(list)"
      ],
      "metadata": {
        "colab": {
          "base_uri": "https://localhost:8080/"
        },
        "id": "lwC1ivhp5KjK",
        "outputId": "bc58e560-ce34-4f8d-e17b-1fc7962f0ef4"
      },
      "execution_count": null,
      "outputs": [
        {
          "output_type": "stream",
          "name": "stdout",
          "text": [
            "['srh', 'kkr', 'dc']\n"
          ]
        }
      ]
    },
    {
      "cell_type": "code",
      "source": [
        "list = [\"srh\" , \"kkr\" , \"dc\"]\n",
        "a = list.copy()\n",
        "print(a)"
      ],
      "metadata": {
        "colab": {
          "base_uri": "https://localhost:8080/"
        },
        "id": "SP5KNC8r83FS",
        "outputId": "441609de-a0f3-4987-9b8e-6716d6dd5310"
      },
      "execution_count": null,
      "outputs": [
        {
          "output_type": "stream",
          "name": "stdout",
          "text": [
            "['srh', 'kkr', 'dc']\n"
          ]
        }
      ]
    },
    {
      "cell_type": "code",
      "source": [
        "x = (\"varsh\" , \"ashok\" , \"amruth\")\n",
        "y = list(x)\n",
        "y[2] = \"bhanu\"\n",
        "x = tuple(y)\n",
        "print(x)"
      ],
      "metadata": {
        "colab": {
          "base_uri": "https://localhost:8080/",
          "height": 235
        },
        "id": "qqGGSK-s92f4",
        "outputId": "c85f178f-e768-43a5-c33e-673ee317b58f"
      },
      "execution_count": 51,
      "outputs": [
        {
          "output_type": "error",
          "ename": "TypeError",
          "evalue": "ignored",
          "traceback": [
            "\u001b[0;31m---------------------------------------------------------------------------\u001b[0m",
            "\u001b[0;31mTypeError\u001b[0m                                 Traceback (most recent call last)",
            "\u001b[0;32m<ipython-input-51-ea49c524818f>\u001b[0m in \u001b[0;36m<module>\u001b[0;34m()\u001b[0m\n\u001b[1;32m      1\u001b[0m \u001b[0mx\u001b[0m \u001b[0;34m=\u001b[0m \u001b[0;34m(\u001b[0m\u001b[0;34m\"varsh\"\u001b[0m \u001b[0;34m,\u001b[0m \u001b[0;34m\"ashok\"\u001b[0m \u001b[0;34m,\u001b[0m \u001b[0;34m\"amruth\"\u001b[0m\u001b[0;34m)\u001b[0m\u001b[0;34m\u001b[0m\u001b[0;34m\u001b[0m\u001b[0m\n\u001b[0;32m----> 2\u001b[0;31m \u001b[0my\u001b[0m \u001b[0;34m=\u001b[0m \u001b[0mlist\u001b[0m\u001b[0;34m(\u001b[0m\u001b[0mx\u001b[0m\u001b[0;34m)\u001b[0m\u001b[0;34m\u001b[0m\u001b[0;34m\u001b[0m\u001b[0m\n\u001b[0m\u001b[1;32m      3\u001b[0m \u001b[0my\u001b[0m\u001b[0;34m[\u001b[0m\u001b[0;36m2\u001b[0m\u001b[0;34m]\u001b[0m \u001b[0;34m=\u001b[0m \u001b[0;34m\"bhanu\"\u001b[0m\u001b[0;34m\u001b[0m\u001b[0;34m\u001b[0m\u001b[0m\n\u001b[1;32m      4\u001b[0m \u001b[0mx\u001b[0m \u001b[0;34m=\u001b[0m \u001b[0mtuple\u001b[0m\u001b[0;34m(\u001b[0m\u001b[0my\u001b[0m\u001b[0;34m)\u001b[0m\u001b[0;34m\u001b[0m\u001b[0;34m\u001b[0m\u001b[0m\n\u001b[1;32m      5\u001b[0m \u001b[0mprint\u001b[0m\u001b[0;34m(\u001b[0m\u001b[0mx\u001b[0m\u001b[0;34m)\u001b[0m\u001b[0;34m\u001b[0m\u001b[0;34m\u001b[0m\u001b[0m\n",
            "\u001b[0;31mTypeError\u001b[0m: 'list' object is not callable"
          ]
        }
      ]
    },
    {
      "cell_type": "code",
      "source": [
        "x = (\"varsh\" , \"ashok\" , \"amruth\")\n",
        "(bhanu , yaswanth , prajwal) = x\n",
        "print(bhanu)\n",
        "print(yaswanth)\n",
        "print(prajwal)"
      ],
      "metadata": {
        "colab": {
          "base_uri": "https://localhost:8080/"
        },
        "id": "eU2xAevdDQ60",
        "outputId": "56ac2b83-d7a8-4e80-e15a-2294c165ca1e"
      },
      "execution_count": 52,
      "outputs": [
        {
          "output_type": "stream",
          "name": "stdout",
          "text": [
            "varsh\n",
            "ashok\n",
            "amruth\n"
          ]
        }
      ]
    },
    {
      "cell_type": "code",
      "source": [
        "x = (\"varsh\" , \"ashok\" , \"amruth\")\n",
        "y = x * 2\n",
        "print(y)"
      ],
      "metadata": {
        "colab": {
          "base_uri": "https://localhost:8080/"
        },
        "id": "bpbUqSUJFBVS",
        "outputId": "8786c2c6-c65e-4d4d-b4fb-d57e58d5c740"
      },
      "execution_count": 54,
      "outputs": [
        {
          "output_type": "stream",
          "name": "stdout",
          "text": [
            "('varsh', 'ashok', 'amruth', 'varsh', 'ashok', 'amruth')\n"
          ]
        }
      ]
    },
    {
      "cell_type": "code",
      "source": [
        "x = {\"varsh\" , \"ashok\" , \"amruth\"}\n",
        "y = {\"virinchi\" , \"kolla\" , \"vibhu\"}\n",
        "x.intersection_update(y)\n",
        "print(x)"
      ],
      "metadata": {
        "colab": {
          "base_uri": "https://localhost:8080/"
        },
        "id": "09JA0zobOakB",
        "outputId": "14199b7a-b490-4595-9488-a696b38783c6"
      },
      "execution_count": 55,
      "outputs": [
        {
          "output_type": "stream",
          "name": "stdout",
          "text": [
            "set()\n"
          ]
        }
      ]
    }
  ]
}