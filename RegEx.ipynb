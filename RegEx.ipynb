{
  "nbformat": 4,
  "nbformat_minor": 0,
  "metadata": {
    "colab": {
      "name": "RegEx.ipynb",
      "provenance": [],
      "authorship_tag": "ABX9TyMEJaGs+HoxjvWCIeyDfXtS",
      "include_colab_link": true
    },
    "kernelspec": {
      "name": "python3",
      "display_name": "Python 3"
    },
    "language_info": {
      "name": "python"
    }
  },
  "cells": [
    {
      "cell_type": "markdown",
      "metadata": {
        "id": "view-in-github",
        "colab_type": "text"
      },
      "source": [
        "<a href=\"https://colab.research.google.com/github/KOLLAVARSH/PYTHON-PROJECT/blob/main/RegEx.ipynb\" target=\"_parent\"><img src=\"https://colab.research.google.com/assets/colab-badge.svg\" alt=\"Open In Colab\"/></a>"
      ]
    },
    {
      "cell_type": "code",
      "execution_count": null,
      "metadata": {
        "colab": {
          "base_uri": "https://localhost:8080/"
        },
        "id": "nY_nWj9G2reQ",
        "outputId": "caf22a5c-822a-49a9-e916-90de92107921"
      },
      "outputs": [
        {
          "output_type": "stream",
          "name": "stdout",
          "text": [
            "YES! it is match\n"
          ]
        }
      ],
      "source": [
        "#search the string if it starts with srh and ends with willamson\n",
        "import re\n",
        "txt = \"srh caption was kane williamson\"\n",
        "x = re.search(\"^srh.*williamson$\",txt)\n",
        "if x :\n",
        "  print(\"YES! it is match\")\n",
        "else :\n",
        "  print(\"not match\")"
      ]
    },
    {
      "cell_type": "code",
      "source": [
        "#To find the lower case alphabates from a to j\n",
        "import re\n",
        "txt = \"srh caption was kane williamson\"\n",
        "x = re.findall(\"[a-j]\",txt)\n",
        "print(x)"
      ],
      "metadata": {
        "colab": {
          "base_uri": "https://localhost:8080/"
        },
        "id": "XwmcF5905FLh",
        "outputId": "9d0c6b54-e501-481d-ffce-cf2712343894"
      },
      "execution_count": null,
      "outputs": [
        {
          "output_type": "stream",
          "name": "stdout",
          "text": [
            "['h', 'c', 'a', 'i', 'a', 'a', 'e', 'i', 'i', 'a']\n"
          ]
        }
      ]
    },
    {
      "cell_type": "code",
      "source": [
        "#find all digit characters\n",
        "import re\n",
        "txt = \"srh 2nd caption was kane williamson\"\n",
        "x = re.findall(\"\\d\",txt)\n",
        "print(x) "
      ],
      "metadata": {
        "colab": {
          "base_uri": "https://localhost:8080/"
        },
        "id": "IWrNWCMo53V6",
        "outputId": "5bd589d0-d53a-4458-8fcf-52cd20b9d592"
      },
      "execution_count": null,
      "outputs": [
        {
          "output_type": "stream",
          "name": "stdout",
          "text": [
            "['2']\n"
          ]
        }
      ]
    },
    {
      "cell_type": "code",
      "source": [
        "#Search for a sequence that starts with \"he\", followed by two (any) characters, and an \"o\":\n",
        "import re\n",
        "txt = \"hello world\"\n",
        "x = re.findall(\"he..o\", txt)\n",
        "print(x)\n"
      ],
      "metadata": {
        "colab": {
          "base_uri": "https://localhost:8080/"
        },
        "id": "yZXjuTCf7FTO",
        "outputId": "4474ae14-a263-41c4-b003-fddbcdc81d49"
      },
      "execution_count": null,
      "outputs": [
        {
          "output_type": "stream",
          "name": "stdout",
          "text": [
            "['hello']\n"
          ]
        }
      ]
    },
    {
      "cell_type": "code",
      "source": [
        "#Search for a sequence that starts with \"he\", followed by 0 or more  (any) characters, and an \"o\":\n",
        "import re\n",
        "txt = \"hello world\"\n",
        "x = re.findall(\"he.*o\", txt)\n",
        "print(x)\n"
      ],
      "metadata": {
        "colab": {
          "base_uri": "https://localhost:8080/"
        },
        "id": "fZNqD0s57x8i",
        "outputId": "9ed61239-cb82-47e4-827b-aea5f72a27ff"
      },
      "execution_count": null,
      "outputs": [
        {
          "output_type": "stream",
          "name": "stdout",
          "text": [
            "['hello']\n"
          ]
        }
      ]
    },
    {
      "cell_type": "code",
      "source": [
        "#Search for a sequence that starts with \"he\", followed by 1 or more  (any) characters, and an \"o\":\n",
        "import re\n",
        "txt = \"hello planet\"\n",
        "x = re.findall(\"he.+o\", txt)\n",
        "print(x)"
      ],
      "metadata": {
        "colab": {
          "base_uri": "https://localhost:8080/"
        },
        "id": "yrhmzAHn8CtH",
        "outputId": "aa608dbb-d0c8-4ed2-b49f-edcb22ee4648"
      },
      "execution_count": null,
      "outputs": [
        {
          "output_type": "stream",
          "name": "stdout",
          "text": [
            "['hello']\n"
          ]
        }
      ]
    },
    {
      "cell_type": "code",
      "source": [
        "import re\n",
        "txt = \"srh caption was kane williamson\"\n",
        "x = re.findall(\"on\",txt)\n",
        "print(x)"
      ],
      "metadata": {
        "id": "DjlyCrK79CVC",
        "colab": {
          "base_uri": "https://localhost:8080/"
        },
        "outputId": "82f89310-642e-43c5-ca8e-c8c798740816"
      },
      "execution_count": null,
      "outputs": [
        {
          "output_type": "stream",
          "name": "stdout",
          "text": [
            "['on', 'on']\n"
          ]
        }
      ]
    },
    {
      "cell_type": "code",
      "source": [
        "import re\n",
        "txt =  \"srh caption was kane williamson\"\n",
        "x = re.findall(\"bhuvi\",txt)\n",
        "print(x)\n"
      ],
      "metadata": {
        "colab": {
          "base_uri": "https://localhost:8080/"
        },
        "id": "UpKDSaUaqSI8",
        "outputId": "5daa4ead-cf58-41e3-8698-7150521f201e"
      },
      "execution_count": null,
      "outputs": [
        {
          "output_type": "stream",
          "name": "stdout",
          "text": [
            "[]\n"
          ]
        }
      ]
    },
    {
      "cell_type": "code",
      "source": [
        "import re\n",
        "txt = \"srh caption was kane williamson\"\n",
        "x = re.search(\"\\s\",txt)\n",
        "print(\"The first white-space character is located in position:\", x.start())\n"
      ],
      "metadata": {
        "colab": {
          "base_uri": "https://localhost:8080/"
        },
        "id": "2LxRdjh1r-5a",
        "outputId": "72a012b3-e535-44d7-f8ef-bb35e88f0fab"
      },
      "execution_count": null,
      "outputs": [
        {
          "output_type": "stream",
          "name": "stdout",
          "text": [
            "The first white-space character is located in position: 3\n"
          ]
        }
      ]
    },
    {
      "cell_type": "code",
      "source": [
        "import re\n",
        "txt = \"srh caption was kane williamson\"\n",
        "x = re.search(\"portugal\",txt)\n",
        "print(x)"
      ],
      "metadata": {
        "colab": {
          "base_uri": "https://localhost:8080/"
        },
        "id": "LscDnJzUs6mI",
        "outputId": "97e1af0c-a07f-4317-e47f-40b00f2d75fa"
      },
      "execution_count": null,
      "outputs": [
        {
          "output_type": "stream",
          "name": "stdout",
          "text": [
            "None\n"
          ]
        }
      ]
    },
    {
      "cell_type": "code",
      "source": [
        "import re\n",
        "txt = \"srh caption was kane williamson\"\n",
        "x = re.split(\"\\s\",txt)\n",
        "print(x)"
      ],
      "metadata": {
        "colab": {
          "base_uri": "https://localhost:8080/"
        },
        "id": "PuYSFLA6tIv3",
        "outputId": "9dd76950-baf2-47ae-e2b4-d47afdebfb47"
      },
      "execution_count": null,
      "outputs": [
        {
          "output_type": "stream",
          "name": "stdout",
          "text": [
            "['srh', 'caption', 'was', 'kane', 'williamson']\n"
          ]
        }
      ]
    },
    {
      "cell_type": "code",
      "source": [
        "import re\n",
        "txt = \"srh caption was kane williamson\"\n",
        "x = re.split(\"\\s\",txt,1)\n",
        "print(x)"
      ],
      "metadata": {
        "colab": {
          "base_uri": "https://localhost:8080/"
        },
        "id": "1PJv7-eutoll",
        "outputId": "daff53cc-bffa-4e64-8f55-5679d990b0a5"
      },
      "execution_count": null,
      "outputs": [
        {
          "output_type": "stream",
          "name": "stdout",
          "text": [
            "['srh', 'caption was kane williamson']\n"
          ]
        }
      ]
    },
    {
      "cell_type": "code",
      "source": [
        "import re\n",
        "txt = \"srh caption was kane williamson\"\n",
        "x = re.sub(\"\\s\",\"9\",txt)\n",
        "print(x)"
      ],
      "metadata": {
        "colab": {
          "base_uri": "https://localhost:8080/"
        },
        "id": "VNy--DCFuIcq",
        "outputId": "f2b9201c-eaa3-4f84-ec6e-514ac12e785e"
      },
      "execution_count": null,
      "outputs": [
        {
          "output_type": "stream",
          "name": "stdout",
          "text": [
            "srh9caption9was9kane9williamson\n"
          ]
        }
      ]
    },
    {
      "cell_type": "code",
      "source": [
        "import re\n",
        "txt = \"srh caption was kane williamson\"\n",
        "x = re.sub(\"\\s\",\"9\",txt,2)\n",
        "print(x)"
      ],
      "metadata": {
        "colab": {
          "base_uri": "https://localhost:8080/"
        },
        "id": "dxQL3hqDut0V",
        "outputId": "cb558578-692b-4343-d878-9a9ad7e38c3b"
      },
      "execution_count": null,
      "outputs": [
        {
          "output_type": "stream",
          "name": "stdout",
          "text": [
            "srh9caption9was kane williamson\n"
          ]
        }
      ]
    },
    {
      "cell_type": "code",
      "source": [
        "import re\n",
        "txt = \"srh caption was kane williamson\"\n",
        "x = re.search(r\"\\bs\\w+\",txt)\n",
        "print(x.string)"
      ],
      "metadata": {
        "colab": {
          "base_uri": "https://localhost:8080/"
        },
        "id": "EIeJWttkviFj",
        "outputId": "5729afb8-c6aa-4b45-dddb-f4ca9278b93c"
      },
      "execution_count": 21,
      "outputs": [
        {
          "output_type": "stream",
          "name": "stdout",
          "text": [
            "srh caption was kane williamson\n"
          ]
        }
      ]
    },
    {
      "cell_type": "code",
      "source": [
        "import re\n",
        "txt = \"srh caption was kane williamson\"\n",
        "x = re.search(r\"\\bw\\w+\",txt)\n",
        "print(x.span())"
      ],
      "metadata": {
        "colab": {
          "base_uri": "https://localhost:8080/"
        },
        "id": "2xK8rWhrw5PZ",
        "outputId": "e46c52e3-189f-4109-e256-40d0f327c96a"
      },
      "execution_count": 23,
      "outputs": [
        {
          "output_type": "stream",
          "name": "stdout",
          "text": [
            "(12, 15)\n"
          ]
        }
      ]
    },
    {
      "cell_type": "code",
      "source": [
        "import re\n",
        "txt = \"srh caption was kane williamson\"\n",
        "x = re.search(r\"\\bw\\w+\",txt)\n",
        "print(x.group())"
      ],
      "metadata": {
        "colab": {
          "base_uri": "https://localhost:8080/"
        },
        "id": "30GjI3S7xsFB",
        "outputId": "9c02d9c0-d5b2-475c-afd1-331accb91419"
      },
      "execution_count": 25,
      "outputs": [
        {
          "output_type": "stream",
          "name": "stdout",
          "text": [
            "was\n"
          ]
        }
      ]
    }
  ]
}