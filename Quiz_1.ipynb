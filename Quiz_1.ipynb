{
  "nbformat": 4,
  "nbformat_minor": 0,
  "metadata": {
    "colab": {
      "name": "Quiz 1.ipynb",
      "provenance": [],
      "authorship_tag": "ABX9TyN3PWslHEbXyIUwrIZSk7Lb",
      "include_colab_link": true
    },
    "kernelspec": {
      "name": "python3",
      "display_name": "Python 3"
    },
    "language_info": {
      "name": "python"
    }
  },
  "cells": [
    {
      "cell_type": "markdown",
      "metadata": {
        "id": "view-in-github",
        "colab_type": "text"
      },
      "source": [
        "<a href=\"https://colab.research.google.com/github/KOLLAVARSH/PYTHON-PROJECT/blob/main/Quiz_1.ipynb\" target=\"_parent\"><img src=\"https://colab.research.google.com/assets/colab-badge.svg\" alt=\"Open In Colab\"/></a>"
      ]
    },
    {
      "cell_type": "code",
      "execution_count": 1,
      "metadata": {
        "colab": {
          "base_uri": "https://localhost:8080/"
        },
        "id": "GTxv2J7HsKGp",
        "outputId": "f13d8554-a698-4107-a09f-5e0fdd09985d"
      },
      "outputs": [
        {
          "output_type": "stream",
          "name": "stdout",
          "text": [
            "5\n"
          ]
        }
      ],
      "source": [
        "#largest among 3 numbers\n",
        "a=5\n",
        "b=3\n",
        "c=2\n",
        "if a>b and a>c :\n",
        "    print(a)\n",
        "elif b>a and b>c :\n",
        "    print(b)\n",
        "else  :\n",
        "    print(c)"
      ]
    },
    {
      "cell_type": "code",
      "source": [
        "#square root of number\n",
        "number = int(input())\n",
        "sqrt = number ** 0.5\n",
        "print(sqrt)"
      ],
      "metadata": {
        "colab": {
          "base_uri": "https://localhost:8080/"
        },
        "id": "ZSF-rx60sY_P",
        "outputId": "8fdb83e3-a178-44d8-aba0-c67f1828f4a2"
      },
      "execution_count": 2,
      "outputs": [
        {
          "output_type": "stream",
          "name": "stdout",
          "text": [
            "2\n",
            "1.4142135623730951\n"
          ]
        }
      ]
    },
    {
      "cell_type": "code",
      "source": [
        "#Add Black color to the given list in the 4th place.\n",
        "#Rainbow = ['Red', 'Orange', 'Yellow', 'Green'] \n",
        "\n",
        "Rainbow =  ['Red', 'Orange', 'Yellow', 'Green']\n",
        "Rainbow.insert (3,\"Black\")\n",
        "print(Rainbow)\n"
      ],
      "metadata": {
        "colab": {
          "base_uri": "https://localhost:8080/"
        },
        "id": "hvrMxmK6ssZG",
        "outputId": "c3eb305e-d7d6-4cb6-b603-85cc78387225"
      },
      "execution_count": 3,
      "outputs": [
        {
          "output_type": "stream",
          "name": "stdout",
          "text": [
            "['Red', 'Orange', 'Yellow', 'Black', 'Green']\n"
          ]
        }
      ]
    },
    {
      "cell_type": "code",
      "source": [
        "#swapping of two numbers\n",
        "a=2\n",
        "b=3\n",
        "a=a+b\n",
        "b=a-b\n",
        "a=a-b\n",
        "print(\"Result =\",a,b)\n"
      ],
      "metadata": {
        "colab": {
          "base_uri": "https://localhost:8080/"
        },
        "id": "QMXKEO3xtHMu",
        "outputId": "286a56e3-5b8a-41b9-f8e3-aa60fb16dc31"
      },
      "execution_count": 5,
      "outputs": [
        {
          "output_type": "stream",
          "name": "stdout",
          "text": [
            "Result = 3 2\n"
          ]
        }
      ]
    },
    {
      "cell_type": "code",
      "source": [
        "#print the given list\n",
        "list = [\"1\",\"2\",\"3\",\"4\"]\n",
        "print(list)"
      ],
      "metadata": {
        "colab": {
          "base_uri": "https://localhost:8080/"
        },
        "id": "1cFzjR4ftd_u",
        "outputId": "9ce757ea-a2db-41f7-8d4b-09b52b9bbc93"
      },
      "execution_count": 24,
      "outputs": [
        {
          "output_type": "stream",
          "name": "stdout",
          "text": [
            "['1', '2', '3', '4']\n"
          ]
        }
      ]
    },
    {
      "cell_type": "code",
      "source": [
        "# print the name in list\n",
        "fruits = [\"banana\",\"apple\",\"cherry\"]\n",
        "print(fruits[1])"
      ],
      "metadata": {
        "colab": {
          "base_uri": "https://localhost:8080/"
        },
        "id": "pYBiGZLYwGvg",
        "outputId": "9d0c8256-41a9-4178-93d6-023b1617a2cf"
      },
      "execution_count": 10,
      "outputs": [
        {
          "output_type": "stream",
          "name": "stdout",
          "text": [
            "apple\n"
          ]
        }
      ]
    },
    {
      "cell_type": "code",
      "source": [
        "#negative indexing\n",
        "fruits = [\"banana\",\"apple\",\"cherry\"]\n",
        "print(fruits[-1])"
      ],
      "metadata": {
        "colab": {
          "base_uri": "https://localhost:8080/"
        },
        "id": "SRhhUAi9w7DO",
        "outputId": "20296fef-4ff9-43cd-fcad-96f73f1cf57e"
      },
      "execution_count": 14,
      "outputs": [
        {
          "output_type": "stream",
          "name": "stdout",
          "text": [
            "cherry\n"
          ]
        }
      ]
    },
    {
      "cell_type": "code",
      "source": [
        "# list out some of the fruits in the list\n",
        "fruits = [\"apple\",\"banana\",\"cherry\",\"water melon\",\"kwik\",\"jack fruit\",\"mango\"]\n",
        "print(fruits[2:5])"
      ],
      "metadata": {
        "colab": {
          "base_uri": "https://localhost:8080/"
        },
        "id": "9X-W8MY_xYfV",
        "outputId": "999ff465-bc85-4bab-bb4e-7e6e5ad77576"
      },
      "execution_count": 16,
      "outputs": [
        {
          "output_type": "stream",
          "name": "stdout",
          "text": [
            "['cherry', 'water melon', 'kwik']\n"
          ]
        }
      ]
    },
    {
      "cell_type": "code",
      "source": [
        "# list out the names in list for neg range\n",
        "fruits = [\"apple\",\"banana\", \"cherry\",\"water melon\",\"kwik\",\"jack\",\"mango\"]\n",
        "print(fruits[-4:-1])\n"
      ],
      "metadata": {
        "colab": {
          "base_uri": "https://localhost:8080/"
        },
        "id": "EOVhKJklybTA",
        "outputId": "7305580e-a958-4f88-9f61-74e4a8e46fc3"
      },
      "execution_count": 18,
      "outputs": [
        {
          "output_type": "stream",
          "name": "stdout",
          "text": [
            "['water melon', 'kwik', 'jack']\n"
          ]
        }
      ]
    },
    {
      "cell_type": "code",
      "source": [
        "# list out some of the fruits in the list up to given range\n",
        "fruits = [\"apple\",\"banana\",\"cherry\",\"water melon\",\"kwik\",\"jack fruit\",\"mango\"]\n",
        "print(fruits[:4])"
      ],
      "metadata": {
        "colab": {
          "base_uri": "https://localhost:8080/"
        },
        "outputId": "478423b3-9371-46dc-e053-6b4f5fe484eb",
        "id": "RJob58qNy5ea"
      },
      "execution_count": 17,
      "outputs": [
        {
          "output_type": "stream",
          "name": "stdout",
          "text": [
            "['apple', 'banana', 'cherry', 'water melon']\n"
          ]
        }
      ]
    },
    {
      "cell_type": "code",
      "source": [
        "#length of the list\n",
        "fruits = [\"apple\",\"banana\",\"cherry\",\"mango\"]\n",
        "print(len(fruits))\n"
      ],
      "metadata": {
        "colab": {
          "base_uri": "https://localhost:8080/"
        },
        "outputId": "4bb3c75d-3af6-4538-8ed2-7f74b5f8b274",
        "id": "ocsivXznywVR"
      },
      "execution_count": 25,
      "outputs": [
        {
          "output_type": "stream",
          "name": "stdout",
          "text": [
            "4\n"
          ]
        }
      ]
    },
    {
      "cell_type": "code",
      "source": [
        "# change the item\n",
        "fruits = [\"apple\", \"banana\", \"cherry\"]\n",
        "fruits[1] = \"blackcurrant\"\n",
        "print(fruits)"
      ],
      "metadata": {
        "colab": {
          "base_uri": "https://localhost:8080/"
        },
        "outputId": "8afe1aec-b473-42a7-8cd4-cfa7fc5eebda",
        "id": "kBRAdqCCyulf"
      },
      "execution_count": 26,
      "outputs": [
        {
          "output_type": "stream",
          "name": "stdout",
          "text": [
            "['apple', 'blackcurrant', 'cherry']\n"
          ]
        }
      ]
    },
    {
      "cell_type": "code",
      "source": [
        "# names add to the list in range\n",
        "fruits = [\"apple\", \"banana\", \"cherry\"]\n",
        "fruits[1] = \"blackcurrant\"\n",
        "print(fruits)"
      ],
      "metadata": {
        "colab": {
          "base_uri": "https://localhost:8080/"
        },
        "id": "9aYKMfE54Ydu",
        "outputId": "95eb813e-b5a4-48bb-b0ba-b0d31388051e"
      },
      "execution_count": 28,
      "outputs": [
        {
          "output_type": "stream",
          "name": "stdout",
          "text": [
            "['apple', 'blackcurrant', 'cherry']\n"
          ]
        }
      ]
    },
    {
      "cell_type": "code",
      "source": [
        "# insert in the list\n",
        "fruits = [\"apple\",\"banana\",\"mango\"]\n",
        "fruits.insert(2,\"jack fruit\")\n",
        "print(fruits)"
      ],
      "metadata": {
        "id": "VMqIiIxc5Y0u",
        "outputId": "5e506f73-871c-4624-a58a-023ee0dffbe9",
        "colab": {
          "base_uri": "https://localhost:8080/"
        }
      },
      "execution_count": 30,
      "outputs": [
        {
          "output_type": "stream",
          "name": "stdout",
          "text": [
            "['apple', 'banana', 'jack fruit', 'mango']\n"
          ]
        }
      ]
    },
    {
      "cell_type": "code",
      "source": [
        ""
      ],
      "metadata": {
        "id": "hAYW7BLn6BEP"
      },
      "execution_count": null,
      "outputs": []
    }
  ]
}