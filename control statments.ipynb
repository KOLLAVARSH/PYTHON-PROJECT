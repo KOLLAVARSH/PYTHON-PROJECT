{
  "nbformat": 4,
  "nbformat_minor": 0,
  "metadata": {
    "colab": {
      "name": "Untitled1.ipynb",
      "provenance": [],
      "authorship_tag": "ABX9TyMRfMuHgdy1Y0wuUdC8FmeB",
      "include_colab_link": true
    },
    "kernelspec": {
      "name": "python3",
      "display_name": "Python 3"
    },
    "language_info": {
      "name": "python"
    }
  },
  "cells": [
    {
      "cell_type": "markdown",
      "metadata": {
        "id": "view-in-github",
        "colab_type": "text"
      },
      "source": [
        "<a href=\"https://colab.research.google.com/github/KOLLAVARSH/PYTHON-PROJECT/blob/main/control%20statments.ipynb\" target=\"_parent\"><img src=\"https://colab.research.google.com/assets/colab-badge.svg\" alt=\"Open In Colab\"/></a>"
      ]
    },
    {
      "cell_type": "code",
      "execution_count": 11,
      "metadata": {
        "colab": {
          "base_uri": "https://localhost:8080/"
        },
        "id": "_eBST_CvK7XO",
        "outputId": "68957450-0f6d-487f-c380-64bb3fcd60c3"
      },
      "outputs": [
        {
          "output_type": "stream",
          "name": "stdout",
          "text": [
            "1\n",
            "3\n",
            "6\n",
            "10\n",
            "15\n",
            "21\n",
            "28\n",
            "36\n",
            "45\n",
            "55\n",
            "66\n",
            "78\n",
            "91\n",
            "105\n",
            "120\n",
            "136\n",
            "153\n",
            "171\n",
            "190\n",
            "210\n",
            "231\n",
            "253\n",
            "276\n",
            "300\n",
            "325\n",
            "351\n",
            "378\n",
            "406\n",
            "435\n",
            "465\n",
            "496\n",
            "528\n",
            "561\n",
            "595\n",
            "630\n",
            "666\n",
            "703\n",
            "741\n",
            "780\n",
            "820\n"
          ]
        }
      ],
      "source": [
        "#while loop\n",
        "i=1\n",
        "sum=0\n",
        "while i<=40:\n",
        " sum=sum+i\n",
        " i=i+1\n",
        " print(sum)\n"
      ]
    },
    {
      "cell_type": "code",
      "source": [
        "#check wheather the triangle is eqi,iso,scal\n",
        "a=int(input(\"enter first angle\"))\n",
        "b=int(input(\"enter second angle\"))\n",
        "c=int(input(\"enter third angle\"))\n",
        "if a==b and b==c and a==c :\n",
        "  print(\"eqilater triangle\")\n",
        "elif (a==b or a!=c) or (a==c or a!=b) or (b==c or b!=a) :\n",
        "  print(\"iso triangle\")\n",
        "else :\n",
        "  print(\"scalen triangle\")\n",
        "\n"
      ],
      "metadata": {
        "colab": {
          "base_uri": "https://localhost:8080/"
        },
        "id": "koDsklUFLsam",
        "outputId": "6af82277-f7aa-4dc7-90a8-226635bfcdd4"
      },
      "execution_count": 15,
      "outputs": [
        {
          "output_type": "stream",
          "name": "stdout",
          "text": [
            "enter first angle20\n",
            "enter second angle70\n",
            "enter third angle40\n",
            "iso triangle\n"
          ]
        }
      ]
    },
    {
      "cell_type": "code",
      "source": [
        "#leap year\n",
        "a=int(input(\"enter year\"))\n",
        "if a%4==0 :\n",
        "   print(\"leap year\")\n",
        "else :\n",
        "   print(\"not a leap year\")"
      ],
      "metadata": {
        "colab": {
          "base_uri": "https://localhost:8080/"
        },
        "id": "MuS9DEifPXAw",
        "outputId": "7a8a105b-763f-468d-db36-44b687810b8d"
      },
      "execution_count": 19,
      "outputs": [
        {
          "output_type": "stream",
          "name": "stdout",
          "text": [
            "enter year1003\n",
            "not a leap year\n"
          ]
        }
      ]
    },
    {
      "cell_type": "code",
      "source": [
        "#positive or negative\n",
        "a=int(input(\"enter number\"))\n",
        "if i<0:\n",
        "  print(\"number is negative\")\n",
        "else:\n",
        "  print(\"number ispositive\")\n",
        " "
      ],
      "metadata": {
        "colab": {
          "base_uri": "https://localhost:8080/"
        },
        "id": "MV0YJCX0PUUB",
        "outputId": "dda85c47-5353-4180-e1ae-b5103d750981"
      },
      "execution_count": 23,
      "outputs": [
        {
          "output_type": "stream",
          "name": "stdout",
          "text": [
            "enter number3\n",
            "number ispositive\n"
          ]
        }
      ]
    },
    {
      "cell_type": "code",
      "source": [
        "\n"
      ],
      "metadata": {
        "id": "UgGuHNjYTf8t"
      },
      "execution_count": 27,
      "outputs": []
    },
    {
      "cell_type": "code",
      "source": [
        "#smallest of three numbers\n",
        "a=int(input(\"enter number\"))\n",
        "b=int(input(\"enter number\"))\n",
        "c=int(input(\"enter number\"))\n",
        "if a<b and a<c:\n",
        "  print(\" a is small number\")\n",
        "elif b<a and b<c:\n",
        "  print(\"b is small number\")\n",
        "else :\n",
        "  print(\"c is small number6\")"
      ],
      "metadata": {
        "colab": {
          "base_uri": "https://localhost:8080/"
        },
        "id": "4ckvTkjZVQt3",
        "outputId": "21839465-794e-4b98-bb2e-836409805ddc"
      },
      "execution_count": 27,
      "outputs": [
        {
          "output_type": "stream",
          "name": "stdout",
          "text": [
            "enter number6\n",
            "enter number5\n",
            "enter number8\n",
            "b is small number\n"
          ]
        }
      ]
    }
  ]
}