{
  "nbformat": 4,
  "nbformat_minor": 0,
  "metadata": {
    "colab": {
      "name": "string.ipynb",
      "provenance": [],
      "authorship_tag": "ABX9TyOPil8poVIJVFsTvCeEBPYG",
      "include_colab_link": true
    },
    "kernelspec": {
      "name": "python3",
      "display_name": "Python 3"
    },
    "language_info": {
      "name": "python"
    }
  },
  "cells": [
    {
      "cell_type": "markdown",
      "metadata": {
        "id": "view-in-github",
        "colab_type": "text"
      },
      "source": [
        "<a href=\"https://colab.research.google.com/github/KOLLAVARSH/PYTHON-PROJECT/blob/main/string.ipynb\" target=\"_parent\"><img src=\"https://colab.research.google.com/assets/colab-badge.svg\" alt=\"Open In Colab\"/></a>"
      ]
    },
    {
      "cell_type": "code",
      "execution_count": 1,
      "metadata": {
        "colab": {
          "base_uri": "https://localhost:8080/"
        },
        "id": "nDFC3AVVWAnS",
        "outputId": "7deb1582-ce08-4be9-a410-2e85012a9d8f"
      },
      "outputs": [
        {
          "output_type": "stream",
          "name": "stdout",
          "text": [
            "['apple', 'orange', 'mango', 'cherry']\n"
          ]
        }
      ],
      "source": [
        "#insert name in list\n",
        "fruits = [\"apple\",\"mango\",\"cherry\"]\n",
        "fruits.insert(1,\"orange\")\n",
        "print(fruits)"
      ]
    },
    {
      "cell_type": "code",
      "source": [
        "#addition of names\n",
        "fruit = [\"mango\"]\n",
        "fruits = [\"apple\",\"banana\",\"cherry\"]\n",
        "fruit.extend(fruits)\n",
        "print(fruits)"
      ],
      "metadata": {
        "colab": {
          "base_uri": "https://localhost:8080/"
        },
        "id": "UEEZpVMXXAW2",
        "outputId": "a47fbf1a-9d26-4871-a6c9-db1f8b2b6642"
      },
      "execution_count": 4,
      "outputs": [
        {
          "output_type": "stream",
          "name": "stdout",
          "text": [
            "['apple', 'banana', 'cherry']\n"
          ]
        }
      ]
    },
    {
      "cell_type": "code",
      "source": [
        "# upper case\n",
        "a = \"rrr movie has been released\"\n",
        "print(a.upper())\n"
      ],
      "metadata": {
        "colab": {
          "base_uri": "https://localhost:8080/"
        },
        "id": "NEAggnypYUYF",
        "outputId": "c96585f8-4b51-4f1c-dd6f-3c201e670a00"
      },
      "execution_count": 6,
      "outputs": [
        {
          "output_type": "stream",
          "name": "stdout",
          "text": [
            "RRR MOVIE HAS BEEN RELEASED\n"
          ]
        }
      ]
    },
    {
      "cell_type": "code",
      "source": [
        "# lower case\n",
        "a = \"RRR MOVIE HAS BEEN RELEASED\"\n",
        "print(a.lower())"
      ],
      "metadata": {
        "colab": {
          "base_uri": "https://localhost:8080/"
        },
        "id": "PTdIWCr4Y4cb",
        "outputId": "ec870c11-4d00-4540-9bb1-e900c0f7b583"
      },
      "execution_count": 8,
      "outputs": [
        {
          "output_type": "stream",
          "name": "stdout",
          "text": [
            "rrr movie has been released\n"
          ]
        }
      ]
    },
    {
      "cell_type": "code",
      "source": [
        "# remove white space\n",
        "a = \"       RRR movie       has been released\"\n",
        "print(a.strip())"
      ],
      "metadata": {
        "colab": {
          "base_uri": "https://localhost:8080/"
        },
        "id": "sdbmnrIpZVyc",
        "outputId": "8b13dde4-6c5f-4bdf-dcba-ad0b914c8886"
      },
      "execution_count": 13,
      "outputs": [
        {
          "output_type": "stream",
          "name": "stdout",
          "text": [
            "RRR movie       has been released\n"
          ]
        }
      ]
    },
    {
      "cell_type": "code",
      "source": [
        "# replace the letter\n",
        "a = \"Volla varsh\"\n",
        "print(a.replace(\"V\",\"K\"))\n"
      ],
      "metadata": {
        "colab": {
          "base_uri": "https://localhost:8080/"
        },
        "id": "9kMptxZnaFOM",
        "outputId": "fefd494b-2101-44a9-a582-4eb3fe6c2e5a"
      },
      "execution_count": 16,
      "outputs": [
        {
          "output_type": "stream",
          "name": "stdout",
          "text": [
            "Kolla varsh\n"
          ]
        }
      ]
    },
    {
      "cell_type": "code",
      "source": [
        "#replacing the word\n",
        "a = \"RRR movie has been released\"\n",
        "print(a.replace(\"RRR\",\"WATER AND FIRE\"))"
      ],
      "metadata": {
        "colab": {
          "base_uri": "https://localhost:8080/"
        },
        "id": "WB-UTiSvaiX0",
        "outputId": "5bcbad82-7334-4450-e77f-4fda359bbb96"
      },
      "execution_count": 18,
      "outputs": [
        {
          "output_type": "stream",
          "name": "stdout",
          "text": [
            "WATER AND FIRE movie has been released\n"
          ]
        }
      ]
    },
    {
      "cell_type": "code",
      "source": [
        "# split string\n",
        "a = \"RRR movie has , been released\"\n",
        "print(a.split(\",\"))"
      ],
      "metadata": {
        "colab": {
          "base_uri": "https://localhost:8080/"
        },
        "id": "eLrW_Qn5bkHM",
        "outputId": "3f7e4df1-22a1-47ce-ae2d-e65e9852bd8c"
      },
      "execution_count": 25,
      "outputs": [
        {
          "output_type": "stream",
          "name": "stdout",
          "text": [
            "['RRR movie has ', ' been released']\n"
          ]
        }
      ]
    },
    {
      "cell_type": "code",
      "source": [
        "# string concatenation\n",
        "a = \"RRR movie has been released\"\n",
        "b = \"i went to movie with my friends\"\n",
        "c = a+b\n",
        "print(c)"
      ],
      "metadata": {
        "colab": {
          "base_uri": "https://localhost:8080/"
        },
        "id": "dJvnI-lLdLfd",
        "outputId": "d2c501dc-7cf2-4110-e3fa-66814fd519ee"
      },
      "execution_count": 31,
      "outputs": [
        {
          "output_type": "stream",
          "name": "stdout",
          "text": [
            "RRR movie has been releasedi went to movie with my friends\n"
          ]
        }
      ]
    },
    {
      "cell_type": "code",
      "source": [
        "# string concatenation with space\n",
        "a = \"RRR movie has been released\"\n",
        "b = \"i went to movie with my friends\"\n",
        "c = a + \" \"+b\n",
        "print(c)\n"
      ],
      "metadata": {
        "colab": {
          "base_uri": "https://localhost:8080/"
        },
        "id": "l5cZTlQGeSOl",
        "outputId": "31527a30-748e-4c6f-effc-0c665897b347"
      },
      "execution_count": 33,
      "outputs": [
        {
          "output_type": "stream",
          "name": "stdout",
          "text": [
            "RRR movie has been released i went to movie with my friends\n"
          ]
        }
      ]
    },
    {
      "cell_type": "code",
      "source": [
        "quantity = int(input(\"enter quantity\"))\n",
        "itemno = int(input(\"enter item number\"))\n",
        "price = int(input(\"enter amount\"))\n",
        "total = quantity * price\n",
        "bill = \"i buy {} bags itemno is {} total price is {}\"\n",
        "print(bill.format(quantity,itemno,total))\n",
        "\n"
      ],
      "metadata": {
        "colab": {
          "base_uri": "https://localhost:8080/"
        },
        "id": "nIhn8YDyhRq9",
        "outputId": "91bcf229-62e5-491a-c9d1-ff62b2731613"
      },
      "execution_count": 41,
      "outputs": [
        {
          "output_type": "stream",
          "name": "stdout",
          "text": [
            "enter quantity2\n",
            "enter item number3898\n",
            "enter amount1200\n",
            "i buy 2 bags itemno is 3898 total price is 2400\n"
          ]
        }
      ]
    },
    {
      "cell_type": "code",
      "source": [
        "#marks\n",
        "a = int(input(\"enter the marks\"))\n",
        "b = int(input(\"enter the marks\"))\n",
        "c = int(input(\"enter the marks\"))\n",
        "d = int(input(\"enter the marks\"))\n",
        "result = \"sub a {},sub b {},sub c {},sub d {}\"\n",
        "print(result.format(a,b,c,d))"
      ],
      "metadata": {
        "colab": {
          "base_uri": "https://localhost:8080/"
        },
        "id": "Rj-naCTtkgpp",
        "outputId": "424e2198-2b25-453c-8b82-a33636cc36f5"
      },
      "execution_count": 42,
      "outputs": [
        {
          "output_type": "stream",
          "name": "stdout",
          "text": [
            "enter the marks45\n",
            "enter the marks67\n",
            "enter the marks89\n",
            "enter the marks90\n",
            "sub a 45,sub b 67,sub c 89,sub d 90\n"
          ]
        }
      ]
    },
    {
      "cell_type": "code",
      "source": [
        "#escape characters\n",
        "a = \"We are the so-called \\\"Vikings\\\" from the north.\"\n",
        "print(a)\n"
      ],
      "metadata": {
        "colab": {
          "base_uri": "https://localhost:8080/"
        },
        "id": "ZEdVc1-vmBaD",
        "outputId": "32b64f68-b3f4-4b56-a02f-a1f2a30e225c"
      },
      "execution_count": 47,
      "outputs": [
        {
          "output_type": "stream",
          "name": "stdout",
          "text": [
            "We are the so-called \"Vikings\" from the north.\n"
          ]
        }
      ]
    },
    {
      "cell_type": "code",
      "source": [
        "text = \"This will insert one \\\\ (backslash).\"\n",
        "print(text) \n"
      ],
      "metadata": {
        "colab": {
          "base_uri": "https://localhost:8080/"
        },
        "id": "2K_wqMvqntqY",
        "outputId": "32c18cc0-caa4-40a5-aafb-08edd8c11ef9"
      },
      "execution_count": 49,
      "outputs": [
        {
          "output_type": "stream",
          "name": "stdout",
          "text": [
            "This will insert one \\ (backslash).\n"
          ]
        }
      ]
    },
    {
      "cell_type": "code",
      "source": [
        "#new line\n",
        "text = \"hello\\nworld\"\n",
        "print(text)"
      ],
      "metadata": {
        "colab": {
          "base_uri": "https://localhost:8080/"
        },
        "id": "yLqFznC-oFPS",
        "outputId": "1fb6ff9f-01ab-4e59-e73f-84562b0508f0"
      },
      "execution_count": 51,
      "outputs": [
        {
          "output_type": "stream",
          "name": "stdout",
          "text": [
            "hello\n",
            "world\n"
          ]
        }
      ]
    },
    {
      "cell_type": "code",
      "source": [
        "#octal\n",
        "a = \"\\75\\79\\76\\76\\65\"\n",
        "print(a)"
      ],
      "metadata": {
        "colab": {
          "base_uri": "https://localhost:8080/"
        },
        "id": "SHo_Sg6HoQvB",
        "outputId": "413cd251-d6ac-43f5-881c-0480f9446e17"
      },
      "execution_count": 56,
      "outputs": [
        {
          "output_type": "stream",
          "name": "stdout",
          "text": [
            "=\u00079>>5\n"
          ]
        }
      ]
    },
    {
      "cell_type": "code",
      "source": [
        "#string methodes\n",
        "a = \"varsh\"\n",
        "b = a.capitalize()\n",
        "print(b)\n"
      ],
      "metadata": {
        "colab": {
          "base_uri": "https://localhost:8080/"
        },
        "id": "oYUJtkaGqWFq",
        "outputId": "06a6d2ab-5146-432d-a3be-319cf71a4743"
      },
      "execution_count": 60,
      "outputs": [
        {
          "output_type": "stream",
          "name": "stdout",
          "text": [
            "Varsh\n"
          ]
        }
      ]
    },
    {
      "cell_type": "code",
      "source": [
        "a = \"varsh\"\n",
        "b = a.casefold()\n",
        "print(b)"
      ],
      "metadata": {
        "colab": {
          "base_uri": "https://localhost:8080/"
        },
        "id": "yo1KDHhvrIMJ",
        "outputId": "9509aad3-c19a-49b9-bdc1-47f49130978c"
      },
      "execution_count": 65,
      "outputs": [
        {
          "output_type": "stream",
          "name": "stdout",
          "text": [
            "varsh\n"
          ]
        }
      ]
    },
    {
      "cell_type": "code",
      "source": [
        "a = \"varsh\"\n",
        "b = a.center(30)\n",
        "print(b)"
      ],
      "metadata": {
        "colab": {
          "base_uri": "https://localhost:8080/"
        },
        "id": "KgdP9byQrYRh",
        "outputId": "41345acf-3949-49fe-a81e-9f19e781243b"
      },
      "execution_count": 66,
      "outputs": [
        {
          "output_type": "stream",
          "name": "stdout",
          "text": [
            "            varsh             \n"
          ]
        }
      ]
    }
  ]
}